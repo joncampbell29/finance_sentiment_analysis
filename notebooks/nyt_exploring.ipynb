{
 "cells": [
  {
   "cell_type": "code",
   "execution_count": 1,
   "metadata": {},
   "outputs": [
    {
     "data": {
      "text/plain": [
       "True"
      ]
     },
     "execution_count": 1,
     "metadata": {},
     "output_type": "execute_result"
    }
   ],
   "source": [
    "import requests\n",
    "import os\n",
    "from dotenv import load_dotenv\n",
    "load_dotenv()"
   ]
  },
  {
   "cell_type": "code",
   "execution_count": 2,
   "metadata": {},
   "outputs": [],
   "source": [
    "key = os.getenv(\"NYT_API_KEY\") # get personal API key from environment variables"
   ]
  },
  {
   "cell_type": "code",
   "execution_count": null,
   "metadata": {},
   "outputs": [],
   "source": []
  },
  {
   "cell_type": "code",
   "execution_count": 11,
   "metadata": {},
   "outputs": [],
   "source": [
    "url = \"https://api.nytimes.com/svc/search/v2/articlesearch.json\" # API base url\n",
    "\n",
    "# Add parameters to api call (fq, begin_date, end_date, api key, page)\n",
    "payload = {\n",
    "    # 'fq': 'body:(\"Apple AND stock\")',\n",
    "    'fq': 'headline:(\"Apple\") AND body:(\"Apple\")',\n",
    "    'begin_date': \"2020-01-01\",\n",
    "    'end_date': \"2020-01-31\",\n",
    "    'api-key': key,\n",
    "    'page': 0\n",
    "}"
   ]
  },
  {
   "cell_type": "code",
   "execution_count": null,
   "metadata": {},
   "outputs": [],
   "source": []
  },
  {
   "cell_type": "code",
   "execution_count": 12,
   "metadata": {},
   "outputs": [
    {
     "name": "stdout",
     "output_type": "stream",
     "text": [
      "200\n"
     ]
    }
   ],
   "source": [
    "resp = requests.get(url, params=payload) # make GET requests to API\n",
    "print(resp.status_code) # 200 status code success"
   ]
  },
  {
   "cell_type": "code",
   "execution_count": 19,
   "metadata": {},
   "outputs": [
    {
     "data": {
      "text/plain": [
       "13"
      ]
     },
     "execution_count": 19,
     "metadata": {},
     "output_type": "execute_result"
    }
   ],
   "source": [
    "resp.json()['response']['meta']['hits'] # get the number of article hits"
   ]
  },
  {
   "cell_type": "code",
   "execution_count": 22,
   "metadata": {},
   "outputs": [],
   "source": [
    "docs = resp.json()['response']['docs'] # Get the docs from response\n"
   ]
  },
  {
   "cell_type": "code",
   "execution_count": 20,
   "metadata": {},
   "outputs": [],
   "source": [
    "# function to see an example article when given an index\n",
    "def see_example(num):\n",
    "    if resp.json()['response']['meta']['hits'] == 0:\n",
    "        return \"No hits\"\n",
    "    example = docs[num]\n",
    "    print(example['abstract']) \n",
    "    print(example['snippet'])\n",
    "    print(example['lead_paragraph'])\n"
   ]
  },
  {
   "cell_type": "code",
   "execution_count": 23,
   "metadata": {},
   "outputs": [
    {
     "name": "stdout",
     "output_type": "stream",
     "text": [
      "Every month, subscription streaming services add a new batch of titles to their libraries. Here are our picks for January.\n",
      "Every month, subscription streaming services add a new batch of titles to their libraries. Here are our picks for January.\n",
      "For more recommendations on what to stream, sign up for our twice-weekly Watching newsletter here.\n"
     ]
    }
   ],
   "source": [
    "see_example(0)\n"
   ]
  },
  {
   "cell_type": "code",
   "execution_count": 24,
   "metadata": {},
   "outputs": [
    {
     "name": "stdout",
     "output_type": "stream",
     "text": [
      "There are tools to crack into the phones at the center of a new dispute over encryption. But the F.BI. says it still needs Apple’s aid.\n",
      "There are tools to crack into the phones at the center of a new dispute over encryption. But the F.BI. says it still needs Apple’s aid.\n",
      "Each week, we review the week’s news, offering analysis about the most important developments in the tech industry.\n"
     ]
    }
   ],
   "source": [
    "see_example(1)"
   ]
  },
  {
   "cell_type": "code",
   "execution_count": 25,
   "metadata": {},
   "outputs": [
    {
     "name": "stdout",
     "output_type": "stream",
     "text": [
      "The film, starring Samuel L. Jackson and Anthony Mackie, was withdrawn after a producer, a son of one of its protagonists, was accused of sexual misconduct.\n",
      "The film, starring Samuel L. Jackson and Anthony Mackie, was withdrawn after a producer, a son of one of its protagonists, was accused of sexual misconduct.\n",
      "After its original rollout plan was scrapped late last year, “The Banker,” a civil rights drama starring Samuel L. Jackson and Anthony Mackie, has a new life.\n"
     ]
    }
   ],
   "source": [
    "see_example(-1)"
   ]
  },
  {
   "cell_type": "code",
   "execution_count": 1,
   "metadata": {},
   "outputs": [],
   "source": []
  }
 ],
 "metadata": {
  "kernelspec": {
   "display_name": "finance_sentiment_analysis-vciioODX",
   "language": "python",
   "name": "python3"
  },
  "language_info": {
   "codemirror_mode": {
    "name": "ipython",
    "version": 3
   },
   "file_extension": ".py",
   "mimetype": "text/x-python",
   "name": "python",
   "nbconvert_exporter": "python",
   "pygments_lexer": "ipython3",
   "version": "3.12.4"
  }
 },
 "nbformat": 4,
 "nbformat_minor": 2
}
