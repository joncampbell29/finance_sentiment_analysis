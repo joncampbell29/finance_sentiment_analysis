{
 "cells": [
  {
   "cell_type": "code",
   "execution_count": 1,
   "metadata": {},
   "outputs": [],
   "source": [
    "import requests\n",
    "import os\n",
    "from dotenv import load_dotenv\n",
    "import sys\n",
    "load_dotenv()\n",
    "src_dir = os.path.dirname(os.getcwd()) + \"\\\\src\"\n",
    "sys.path.insert(0, src_dir)\n",
    "from utils.helper_functions import gather_article_set, BASE_NYT_URL, gen_stock_filter, gen_mkt_filter, make_api_call\n",
    "import pandas as pd\n",
    "import numpy as np\n",
    "\n",
    "key = os.getenv(\"NYT_API_KEY\") # get personal API key from environment variables"
   ]
  },
  {
   "cell_type": "markdown",
   "metadata": {},
   "source": [
    "#### Specific Stock Article calls\n",
    "- 'fq': '(headline:(\"{stock_name}\") AND body:(\"{stock_name}\")) AND news_desk:(\"Business\", \"Financial\")'\n",
    "\n",
    "#### General Market Calls\n",
    "- ??\n",
    "- (headline:(\"{keyword1}\") AND body:(\"keyword1\")) OR (headline:(\"keyword2\") AND body:(\"keyword2\"))... AND news_desk:(\"Business\", \"Financial\")\n",
    "\n"
   ]
  },
  {
   "cell_type": "code",
   "execution_count": 3,
   "metadata": {},
   "outputs": [],
   "source": [
    "market_keywords = [\n",
    "    'S&P', 'Stock Market', 'Wall Street'\n",
    "]"
   ]
  },
  {
   "cell_type": "code",
   "execution_count": 9,
   "metadata": {},
   "outputs": [
    {
     "data": {
      "text/plain": [
       "'(headline:(\"Microsoft\") AND body:(\"Microsoft\")) OR (body:(\"MSFT\"))'"
      ]
     },
     "execution_count": 9,
     "metadata": {},
     "output_type": "execute_result"
    }
   ],
   "source": [
    "gen_stock_filter(stock_name = \"Microsoft\", ticker = \"MSFT\")"
   ]
  },
  {
   "cell_type": "code",
   "execution_count": 10,
   "metadata": {},
   "outputs": [
    {
     "data": {
      "text/plain": [
       "'(headline:(\"Nike\") AND body:(\"Nike\")) OR (body:(\"NKE\"))'"
      ]
     },
     "execution_count": 10,
     "metadata": {},
     "output_type": "execute_result"
    }
   ],
   "source": [
    "gen_stock_filter(stock_name = \"Nike\", ticker = \"NKE\")"
   ]
  },
  {
   "cell_type": "code",
   "execution_count": 11,
   "metadata": {},
   "outputs": [
    {
     "data": {
      "text/plain": [
       "'(headline:(\"S&P\") AND body:(\"S&P\")) OR (headline:(\"Inflation\") AND body:(\"Inflation\")) AND news_desk:(\"Business\", \"Financial\")'"
      ]
     },
     "execution_count": 11,
     "metadata": {},
     "output_type": "execute_result"
    }
   ],
   "source": [
    "gen_mkt_filter('S&P','Inflation')"
   ]
  },
  {
   "cell_type": "code",
   "execution_count": 12,
   "metadata": {},
   "outputs": [
    {
     "data": {
      "text/plain": [
       "'(headline:(\"S&P\") AND body:(\"S&P\")) OR (headline:(\"Stock Market\") AND body:(\"Stock Market\")) OR (headline:(\"Wall Street\") AND body:(\"Wall Street\")) AND news_desk:(\"Business\", \"Financial\")'"
      ]
     },
     "execution_count": 12,
     "metadata": {},
     "output_type": "execute_result"
    }
   ],
   "source": [
    "gen_mkt_filter(*market_keywords)"
   ]
  },
  {
   "cell_type": "code",
   "execution_count": 4,
   "metadata": {},
   "outputs": [
    {
     "data": {
      "text/plain": [
       "['S&P', 'Stock Market', 'Wall Street']"
      ]
     },
     "execution_count": 4,
     "metadata": {},
     "output_type": "execute_result"
    }
   ],
   "source": [
    "market_keywords"
   ]
  },
  {
   "cell_type": "code",
   "execution_count": 32,
   "metadata": {},
   "outputs": [
    {
     "name": "stdout",
     "output_type": "stream",
     "text": [
      "200\n",
      "Hits:  3\n"
     ]
    }
   ],
   "source": [
    "# Example call to get Nike Articles between January and May 2022\n",
    "url = \"https://api.nytimes.com/svc/search/v2/articlesearch.json\" # API base url\n",
    "\n",
    "payload = {\n",
    "    # 'fq': 'body:(\"Apple AND stock\")',\n",
    "    'fq': gen_stock_filter(\"Nike\",'NKE'),\n",
    "    'begin_date': \"2022-01-01\",\n",
    "    'end_date': \"2022-05-31\",\n",
    "    'api-key': key,\n",
    "    'fl': 'lead_paragraph,snippet,abstract,pub_date,headline,web_url,source',\n",
    "    'page': 0\n",
    "}\n",
    "\n",
    "resp = requests.get(url, params=payload) # make GET requests to API\n",
    "print(resp.status_code) # 200 status code success\n",
    "\n",
    "print(\"Hits: \",resp.json()['response']['meta']['hits']) # get the number of article hits"
   ]
  },
  {
   "cell_type": "code",
   "execution_count": 33,
   "metadata": {},
   "outputs": [],
   "source": [
    "docs = resp.json()['response']['docs'] # Get the docs from response\n"
   ]
  },
  {
   "cell_type": "code",
   "execution_count": 34,
   "metadata": {},
   "outputs": [
    {
     "data": {
      "text/plain": [
       "{'abstract': 'The Air Force 1, manufactured in Italy, will be unveiled in a new installation in Brooklyn. It was one of the designer’s final projects before his death.',\n",
       " 'web_url': 'https://www.nytimes.com/2022/05/20/style/louis-vuitton-nike-virgil-abloh.html',\n",
       " 'snippet': 'The Air Force 1, manufactured in Italy, will be unveiled in a new installation in Brooklyn. It was one of the designer’s final projects before his death.',\n",
       " 'lead_paragraph': 'Over the years, Virgil Abloh approached his work with Nike as something slightly different than a straightforward collaborator. He was a tinkerer. A nudger. A questioner. Often his ideas verged on the raw: What if you punch holes in the sneaker? What can we print on it? What if we rendered the invisible parts of construction visible?',\n",
       " 'source': 'The New York Times',\n",
       " 'headline': {'main': 'Louis Vuitton Meets Nike in Virgil Abloh’s Dream Sneaker',\n",
       "  'kicker': None,\n",
       "  'content_kicker': None,\n",
       "  'print_headline': 'Virgil Abloh’s Dream Sneaker, Times 47',\n",
       "  'name': None,\n",
       "  'seo': None,\n",
       "  'sub': None},\n",
       " 'pub_date': '2022-05-20T09:00:39+0000'}"
      ]
     },
     "execution_count": 34,
     "metadata": {},
     "output_type": "execute_result"
    }
   ],
   "source": [
    "docs[0]"
   ]
  },
  {
   "cell_type": "code",
   "execution_count": 15,
   "metadata": {},
   "outputs": [
    {
     "data": {
      "text/plain": [
       "{'abstract': 'The Air Force 1, manufactured in Italy, will be unveiled in a new installation in Brooklyn. It was one of the designer’s final projects before his death.',\n",
       " 'snippet': 'The Air Force 1, manufactured in Italy, will be unveiled in a new installation in Brooklyn. It was one of the designer’s final projects before his death.',\n",
       " 'lead_paragraph': 'Over the years, Virgil Abloh approached his work with Nike as something slightly different than a straightforward collaborator. He was a tinkerer. A nudger. A questioner. Often his ideas verged on the raw: What if you punch holes in the sneaker? What can we print on it? What if we rendered the invisible parts of construction visible?',\n",
       " 'headline': {'main': 'Louis Vuitton Meets Nike in Virgil Abloh’s Dream Sneaker',\n",
       "  'kicker': None,\n",
       "  'content_kicker': None,\n",
       "  'print_headline': 'Virgil Abloh’s Dream Sneaker, Times 47',\n",
       "  'name': None,\n",
       "  'seo': None,\n",
       "  'sub': None},\n",
       " 'pub_date': '2022-05-20T09:00:39+0000'}"
      ]
     },
     "execution_count": 15,
     "metadata": {},
     "output_type": "execute_result"
    }
   ],
   "source": [
    "resp.json()['response']['docs'][0]"
   ]
  },
  {
   "cell_type": "code",
   "execution_count": 16,
   "metadata": {},
   "outputs": [],
   "source": [
    "# function to see an example article when given an index\n",
    "def see_example(num):\n",
    "    if resp.json()['response']['meta']['hits'] == 0:\n",
    "        return \"No hits\"\n",
    "    example = docs[num]\n",
    "    print(example['abstract']) \n",
    "    print(example['snippet'])\n",
    "    print(example['lead_paragraph'])\n",
    "    print(example['headline'])\n"
   ]
  },
  {
   "cell_type": "code",
   "execution_count": 17,
   "metadata": {},
   "outputs": [
    {
     "name": "stdout",
     "output_type": "stream",
     "text": [
      "The Air Force 1, manufactured in Italy, will be unveiled in a new installation in Brooklyn. It was one of the designer’s final projects before his death.\n",
      "The Air Force 1, manufactured in Italy, will be unveiled in a new installation in Brooklyn. It was one of the designer’s final projects before his death.\n",
      "Over the years, Virgil Abloh approached his work with Nike as something slightly different than a straightforward collaborator. He was a tinkerer. A nudger. A questioner. Often his ideas verged on the raw: What if you punch holes in the sneaker? What can we print on it? What if we rendered the invisible parts of construction visible?\n",
      "{'main': 'Louis Vuitton Meets Nike in Virgil Abloh’s Dream Sneaker', 'kicker': None, 'content_kicker': None, 'print_headline': 'Virgil Abloh’s Dream Sneaker, Times 47', 'name': None, 'seo': None, 'sub': None}\n"
     ]
    }
   ],
   "source": [
    "see_example(0)\n"
   ]
  },
  {
   "cell_type": "code",
   "execution_count": 18,
   "metadata": {},
   "outputs": [
    {
     "name": "stdout",
     "output_type": "stream",
     "text": [
      "Barbara Mack hugged Larry Miller after he apologized for killing her brother, Edward David White. But if she were 30 years younger, she told him, “I would have been across that table at you.”\n",
      "Barbara Mack hugged Larry Miller after he apologized for killing her brother, Edward David White. But if she were 30 years younger, she told him, “I would have been across that table at you.”\n",
      "PHILADELPHIA — Barbara Mack lives a block from the corner where her teenage brother was shot to death while on his way home from work on Sept. 30, 1965. Hasan Adams was only 8 months old when the bullet took his father. Azizah Arline was months from being born and never met her dad. More than half a century later, they have finally received an apology from, and discussed restitution with, the man who committed the murder.\n",
      "{'main': 'A Nike Executive Seeks a Family’s Forgiveness for a 1965 Murder', 'kicker': None, 'content_kicker': None, 'print_headline': 'Nike Executive Seeks  Forgiveness of Family   Of ’65 Murder Victim', 'name': None, 'seo': None, 'sub': None}\n"
     ]
    }
   ],
   "source": [
    "see_example(1)"
   ]
  },
  {
   "cell_type": "code",
   "execution_count": 19,
   "metadata": {},
   "outputs": [
    {
     "name": "stdout",
     "output_type": "stream",
     "text": [
      "Why would anyone spend that much for a virtual shoe?\n",
      "Why would anyone spend that much for a virtual shoe?\n",
      "The market for collectible sneakers has skyrocketed in recent years. And until recently, so had the market for NFTs, or nonfungible tokens, which function as digital certificates of ownership for works of art as well as tattoo designs and virtual real estate.\n",
      "{'main': 'Nike Sold an NFT Sneaker for $134,000', 'kicker': None, 'content_kicker': None, 'print_headline': None, 'name': None, 'seo': None, 'sub': None}\n"
     ]
    }
   ],
   "source": [
    "see_example(-1)"
   ]
  },
  {
   "cell_type": "code",
   "execution_count": 48,
   "metadata": {},
   "outputs": [
    {
     "name": "stdout",
     "output_type": "stream",
     "text": [
      "200\n",
      "Hits:  25\n"
     ]
    }
   ],
   "source": [
    "# Example API call to get general market articles betwwn January and May 2022\n",
    "\n",
    "payload = {\n",
    "    # 'fq': 'body:(\"Apple AND stock\")',\n",
    "    'fq': gen_mkt_filter(*market_keywords),\n",
    "    'begin_date': \"2022-01-01\",\n",
    "    'end_date': \"2022-05-31\",\n",
    "    'api-key': key,\n",
    "    'fl': 'lead_paragraph,snippet,abstract,pub_date,headline',\n",
    "    'page': 0\n",
    "}\n",
    "\n",
    "resp = requests.get(url, params=payload) # make GET requests to API\n",
    "print(resp.status_code) # 200 status code success\n",
    "print(\"Hits: \",resp.json()['response']['meta']['hits']) # get the number of article hits"
   ]
  },
  {
   "cell_type": "code",
   "execution_count": 256,
   "metadata": {},
   "outputs": [
    {
     "name": "stdout",
     "output_type": "stream",
     "text": [
      "The Air Force 1, manufactured in Italy, will be unveiled in a new installation in Brooklyn. It was one of the designer’s final projects before his death.\n",
      "The Air Force 1, manufactured in Italy, will be unveiled in a new installation in Brooklyn. It was one of the designer’s final projects before his death.\n",
      "Over the years, Virgil Abloh approached his work with Nike as something slightly different than a straightforward collaborator. He was a tinkerer. A nudger. A questioner. Often his ideas verged on the raw: What if you punch holes in the sneaker? What can we print on it? What if we rendered the invisible parts of construction visible?\n",
      "{'main': 'Louis Vuitton Meets Nike in Virgil Abloh’s Dream Sneaker', 'kicker': None, 'content_kicker': None, 'print_headline': 'Virgil Abloh’s Dream Sneaker, Times 47', 'name': None, 'seo': None, 'sub': None}\n"
     ]
    }
   ],
   "source": [
    "see_example(0)"
   ]
  },
  {
   "cell_type": "code",
   "execution_count": 257,
   "metadata": {},
   "outputs": [
    {
     "name": "stdout",
     "output_type": "stream",
     "text": [
      "Barbara Mack hugged Larry Miller after he apologized for killing her brother, Edward David White. But if she were 30 years younger, she told him, “I would have been across that table at you.”\n",
      "Barbara Mack hugged Larry Miller after he apologized for killing her brother, Edward David White. But if she were 30 years younger, she told him, “I would have been across that table at you.”\n",
      "PHILADELPHIA — Barbara Mack lives a block from the corner where her teenage brother was shot to death while on his way home from work on Sept. 30, 1965. Hasan Adams was only 8 months old when the bullet took his father. Azizah Arline was months from being born and never met her dad. More than half a century later, they have finally received an apology from, and discussed restitution with, the man who committed the murder.\n",
      "{'main': 'A Nike Executive Seeks a Family’s Forgiveness for a 1965 Murder', 'kicker': None, 'content_kicker': None, 'print_headline': 'Nike Executive Seeks  Forgiveness of Family   Of ’65 Murder Victim', 'name': None, 'seo': None, 'sub': None}\n"
     ]
    }
   ],
   "source": [
    "see_example(1)"
   ]
  },
  {
   "cell_type": "code",
   "execution_count": 258,
   "metadata": {},
   "outputs": [
    {
     "name": "stdout",
     "output_type": "stream",
     "text": [
      "Why would anyone spend that much for a virtual shoe?\n",
      "Why would anyone spend that much for a virtual shoe?\n",
      "The market for collectible sneakers has skyrocketed in recent years. And until recently, so had the market for NFTs, or nonfungible tokens, which function as digital certificates of ownership for works of art as well as tattoo designs and virtual real estate.\n",
      "{'main': 'Nike Sold an NFT Sneaker for $134,000', 'kicker': None, 'content_kicker': None, 'print_headline': None, 'name': None, 'seo': None, 'sub': None}\n"
     ]
    }
   ],
   "source": [
    "see_example(-1)"
   ]
  }
 ],
 "metadata": {
  "kernelspec": {
   "display_name": "finance_sentiment_analysis-vciioODX",
   "language": "python",
   "name": "python3"
  },
  "language_info": {
   "codemirror_mode": {
    "name": "ipython",
    "version": 3
   },
   "file_extension": ".py",
   "mimetype": "text/x-python",
   "name": "python",
   "nbconvert_exporter": "python",
   "pygments_lexer": "ipython3",
   "version": "3.12.4"
  }
 },
 "nbformat": 4,
 "nbformat_minor": 2
}
