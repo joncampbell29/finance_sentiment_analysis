{
 "cells": [
  {
   "cell_type": "code",
   "execution_count": 9,
   "metadata": {},
   "outputs": [],
   "source": [
    "import requests\n",
    "import os\n",
    "from dotenv import load_dotenv\n",
    "import sys\n",
    "load_dotenv()\n",
    "src_dir = os.path.dirname(os.getcwd()) + \"\\\\src\"\n",
    "sys.path.insert(0, src_dir)\n",
    "from utils.helper_functions import gather_article_set, BASE_NYT_URL, gen_stock_filter, gen_mkt_filter, make_api_call, gather_article_set\n",
    "import pandas as pd\n",
    "import numpy as np\n",
    "\n",
    "key = os.getenv(\"NYT_API_KEY\") # get personal API key from environment variables"
   ]
  },
  {
   "cell_type": "markdown",
   "metadata": {},
   "source": [
    "#### Specific Stock Article calls\n",
    "- 'fq': '(headline:(\"{stock_name}\") AND body:(\"{stock_name}\")) AND news_desk:(\"Business\", \"Financial\")'\n",
    "\n",
    "#### General Market Calls\n",
    "- ??\n",
    "- (headline:(\"{keyword1}\") AND body:(\"keyword1\")) OR (headline:(\"keyword2\") AND body:(\"keyword2\"))... AND news_desk:(\"Business\", \"Financial\")\n",
    "\n"
   ]
  },
  {
   "cell_type": "code",
   "execution_count": 3,
   "metadata": {},
   "outputs": [],
   "source": [
    "market_keywords = [\n",
    "    'S&P', 'Stock Market', 'Wall Street'\n",
    "]"
   ]
  },
  {
   "cell_type": "code",
   "execution_count": 9,
   "metadata": {},
   "outputs": [
    {
     "data": {
      "text/plain": [
       "'(headline:(\"Microsoft\") AND body:(\"Microsoft\")) OR (body:(\"MSFT\"))'"
      ]
     },
     "execution_count": 9,
     "metadata": {},
     "output_type": "execute_result"
    }
   ],
   "source": [
    "gen_stock_filter(stock_name = \"Microsoft\", ticker = \"MSFT\")"
   ]
  },
  {
   "cell_type": "code",
   "execution_count": 10,
   "metadata": {},
   "outputs": [
    {
     "data": {
      "text/plain": [
       "'(headline:(\"Nike\") AND body:(\"Nike\")) OR (body:(\"NKE\"))'"
      ]
     },
     "execution_count": 10,
     "metadata": {},
     "output_type": "execute_result"
    }
   ],
   "source": [
    "gen_stock_filter(stock_name = \"Nike\", ticker = \"NKE\")"
   ]
  },
  {
   "cell_type": "code",
   "execution_count": 11,
   "metadata": {},
   "outputs": [
    {
     "data": {
      "text/plain": [
       "'(headline:(\"S&P\") AND body:(\"S&P\")) OR (headline:(\"Inflation\") AND body:(\"Inflation\")) AND news_desk:(\"Business\", \"Financial\")'"
      ]
     },
     "execution_count": 11,
     "metadata": {},
     "output_type": "execute_result"
    }
   ],
   "source": [
    "gen_mkt_filter('S&P','Inflation')"
   ]
  },
  {
   "cell_type": "code",
   "execution_count": 12,
   "metadata": {},
   "outputs": [
    {
     "data": {
      "text/plain": [
       "'(headline:(\"S&P\") AND body:(\"S&P\")) OR (headline:(\"Stock Market\") AND body:(\"Stock Market\")) OR (headline:(\"Wall Street\") AND body:(\"Wall Street\")) AND news_desk:(\"Business\", \"Financial\")'"
      ]
     },
     "execution_count": 12,
     "metadata": {},
     "output_type": "execute_result"
    }
   ],
   "source": [
    "gen_mkt_filter(*market_keywords)"
   ]
  },
  {
   "cell_type": "code",
   "execution_count": 4,
   "metadata": {},
   "outputs": [
    {
     "data": {
      "text/plain": [
       "['S&P', 'Stock Market', 'Wall Street']"
      ]
     },
     "execution_count": 4,
     "metadata": {},
     "output_type": "execute_result"
    }
   ],
   "source": [
    "market_keywords"
   ]
  },
  {
   "cell_type": "code",
   "execution_count": 6,
   "metadata": {},
   "outputs": [
    {
     "name": "stdout",
     "output_type": "stream",
     "text": [
      "200\n",
      "Hits:  3\n"
     ]
    }
   ],
   "source": [
    "# Example call to get Nike Articles between January and May 2022\n",
    "url = \"https://api.nytimes.com/svc/search/v2/articlesearch.json\" # API base url\n",
    "\n",
    "payload = {\n",
    "    # 'fq': 'body:(\"Apple AND stock\")',\n",
    "    'fq': gen_stock_filter(\"Nike\",'NKE'),\n",
    "    'begin_date': \"2022-01-01\",\n",
    "    'end_date': \"2022-05-31\",\n",
    "    'api-key': key,\n",
    "    'fl': 'lead_paragraph,snippet,abstract,pub_date,headline,web_url,source',\n",
    "    'page': 0\n",
    "}\n",
    "\n",
    "resp = requests.get(url, params=payload) # make GET requests to API\n",
    "print(resp.status_code) # 200 status code success\n",
    "\n",
    "print(\"Hits: \",resp.json()['response']['meta']['hits']) # get the number of article hits"
   ]
  },
  {
   "cell_type": "code",
   "execution_count": 11,
   "metadata": {},
   "outputs": [
    {
     "name": "stderr",
     "output_type": "stream",
     "text": [
      "Processing Articles: 100%|██████████| 11/11 [02:51<00:00, 15.58s/page]"
     ]
    },
    {
     "name": "stdout",
     "output_type": "stream",
     "text": [
      "All Articles Returned\n"
     ]
    },
    {
     "name": "stderr",
     "output_type": "stream",
     "text": [
      "\n"
     ]
    }
   ],
   "source": [
    "hmm = gather_article_set(\n",
    "    key,\n",
    "    \"2022-01-01\",\n",
    "    gen_stock_filter,\n",
    "    \"2022-12-25\",\n",
    "    stock_name = \"Apple\",\n",
    "    ticker = \"AAPL\"\n",
    ")"
   ]
  },
  {
   "cell_type": "code",
   "execution_count": 14,
   "metadata": {},
   "outputs": [
    {
     "data": {
      "text/html": [
       "<div>\n",
       "<style scoped>\n",
       "    .dataframe tbody tr th:only-of-type {\n",
       "        vertical-align: middle;\n",
       "    }\n",
       "\n",
       "    .dataframe tbody tr th {\n",
       "        vertical-align: top;\n",
       "    }\n",
       "\n",
       "    .dataframe thead th {\n",
       "        text-align: right;\n",
       "    }\n",
       "</style>\n",
       "<table border=\"1\" class=\"dataframe\">\n",
       "  <thead>\n",
       "    <tr style=\"text-align: right;\">\n",
       "      <th></th>\n",
       "      <th>abstract</th>\n",
       "      <th>web_url</th>\n",
       "      <th>snippet</th>\n",
       "      <th>lead_paragraph</th>\n",
       "      <th>source</th>\n",
       "      <th>headline</th>\n",
       "      <th>pub_date</th>\n",
       "      <th>meta.article_type</th>\n",
       "      <th>meta.arguments</th>\n",
       "    </tr>\n",
       "  </thead>\n",
       "  <tbody>\n",
       "    <tr>\n",
       "      <th>0</th>\n",
       "      <td>Here’s what you need to know at the end of the...</td>\n",
       "      <td>https://www.nytimes.com/2022/01/03/briefing/om...</td>\n",
       "      <td></td>\n",
       "      <td>(Want to get this newsletter in your inbox? He...</td>\n",
       "      <td>The New York Times</td>\n",
       "      <td>Omicron, Apple, Jan. 6: Your Monday Evening Br...</td>\n",
       "      <td>2022-01-03 22:40:32+00:00</td>\n",
       "      <td>stock</td>\n",
       "      <td>(Apple, AAPL)</td>\n",
       "    </tr>\n",
       "    <tr>\n",
       "      <th>1</th>\n",
       "      <td>Lawmakers’ objections to an obscure Chinese se...</td>\n",
       "      <td>https://www.nytimes.com/2022/11/07/business/ap...</td>\n",
       "      <td></td>\n",
       "      <td>Every September, Apple unveils its latest phon...</td>\n",
       "      <td>The New York Times</td>\n",
       "      <td>Apple Built Its Empire With China. Now Its Fou...</td>\n",
       "      <td>2022-11-07 23:23:00+00:00</td>\n",
       "      <td>stock</td>\n",
       "      <td>(Apple, AAPL)</td>\n",
       "    </tr>\n",
       "    <tr>\n",
       "      <th>2</th>\n",
       "      <td>Sometimes we want experts who can sort out the...</td>\n",
       "      <td>https://www.nytimes.com/2022/05/05/technology/...</td>\n",
       "      <td></td>\n",
       "      <td>Gatekeepers like powerful tech companies have ...</td>\n",
       "      <td>The New York Times</td>\n",
       "      <td>Online Deciders Like Apple Have a Point</td>\n",
       "      <td>2022-05-05 16:52:41+00:00</td>\n",
       "      <td>stock</td>\n",
       "      <td>(Apple, AAPL)</td>\n",
       "    </tr>\n",
       "    <tr>\n",
       "      <th>3</th>\n",
       "      <td>A high-stakes hearing to decide whether the wo...</td>\n",
       "      <td>https://www.nytimes.com/2022/12/05/opinion/epi...</td>\n",
       "      <td></td>\n",
       "      <td>Apple is the world’s most valuable company. Is...</td>\n",
       "      <td>The New York Times</td>\n",
       "      <td>The Battle Royale Over Apple’s App Store</td>\n",
       "      <td>2022-12-05 20:30:04+00:00</td>\n",
       "      <td>stock</td>\n",
       "      <td>(Apple, AAPL)</td>\n",
       "    </tr>\n",
       "    <tr>\n",
       "      <th>4</th>\n",
       "      <td>The move could frustrate law enforcement effor...</td>\n",
       "      <td>https://www.nytimes.com/2022/12/07/technology/...</td>\n",
       "      <td></td>\n",
       "      <td>Apple has long promised that what is on your i...</td>\n",
       "      <td>The New York Times</td>\n",
       "      <td>Apple Details Plans to Beef Up Encryption of D...</td>\n",
       "      <td>2022-12-07 21:28:15+00:00</td>\n",
       "      <td>stock</td>\n",
       "      <td>(Apple, AAPL)</td>\n",
       "    </tr>\n",
       "    <tr>\n",
       "      <th>...</th>\n",
       "      <td>...</td>\n",
       "      <td>...</td>\n",
       "      <td>...</td>\n",
       "      <td>...</td>\n",
       "      <td>...</td>\n",
       "      <td>...</td>\n",
       "      <td>...</td>\n",
       "      <td>...</td>\n",
       "      <td>...</td>\n",
       "    </tr>\n",
       "    <tr>\n",
       "      <th>107</th>\n",
       "      <td>Our dedicated Deals team tracks Apple deals al...</td>\n",
       "      <td>https://www.nytimes.com/wirecutter/money/prime...</td>\n",
       "      <td></td>\n",
       "      <td>Our dedicated Deals team tracks Apple deals al...</td>\n",
       "      <td>Wirecutter</td>\n",
       "      <td>Prime Day Apple Deals: iPad, MacBook, Apple Wa...</td>\n",
       "      <td>2022-10-11 00:00:00+00:00</td>\n",
       "      <td>stock</td>\n",
       "      <td>(Apple, AAPL)</td>\n",
       "    </tr>\n",
       "    <tr>\n",
       "      <th>108</th>\n",
       "      <td>It looks like Wirecutter will have a new budge...</td>\n",
       "      <td>https://www.nytimes.com/wirecutter/blog/apple-...</td>\n",
       "      <td>It looks like Wirecutter will have a new budge...</td>\n",
       "      <td>It looks like Wirecutter will have a new budge...</td>\n",
       "      <td>Wirecutter</td>\n",
       "      <td>The Things That Matter From Apple’s Spring 202...</td>\n",
       "      <td>2022-03-08 00:00:00+00:00</td>\n",
       "      <td>stock</td>\n",
       "      <td>(Apple, AAPL)</td>\n",
       "    </tr>\n",
       "    <tr>\n",
       "      <th>109</th>\n",
       "      <td>Apple just rolled out iOS 16.2, a software upd...</td>\n",
       "      <td>https://www.nytimes.com/wirecutter/reviews/how...</td>\n",
       "      <td>Apple just rolled out iOS 16.2, a software upd...</td>\n",
       "      <td>Apple just rolled out iOS 16.2, a software upd...</td>\n",
       "      <td>Wirecutter</td>\n",
       "      <td>Why You Should Enable Apple’s New Security Fea...</td>\n",
       "      <td>2022-12-13 00:00:00+00:00</td>\n",
       "      <td>stock</td>\n",
       "      <td>(Apple, AAPL)</td>\n",
       "    </tr>\n",
       "    <tr>\n",
       "      <th>110</th>\n",
       "      <td>Apple discounts are few and far between, but P...</td>\n",
       "      <td>https://www.nytimes.com/wirecutter/money/prime...</td>\n",
       "      <td></td>\n",
       "      <td>Apple discounts are few and far between, but P...</td>\n",
       "      <td>Wirecutter</td>\n",
       "      <td>The Best Apple Prime Day Deals 2022: Apple Wat...</td>\n",
       "      <td>2022-07-12 00:00:00+00:00</td>\n",
       "      <td>stock</td>\n",
       "      <td>(Apple, AAPL)</td>\n",
       "    </tr>\n",
       "    <tr>\n",
       "      <th>111</th>\n",
       "      <td>Editor's note: Cyber Monday is toast. Some of ...</td>\n",
       "      <td>https://www.nytimes.com/wirecutter/money/apple...</td>\n",
       "      <td>Editor's note: Cyber Monday is toast. Some of ...</td>\n",
       "      <td>Editor's note: Cyber Monday is toast. Some of ...</td>\n",
       "      <td>Wirecutter</td>\n",
       "      <td>40+ Best Apple Cyber Monday Deals 2022: iPads,...</td>\n",
       "      <td>2022-11-28 00:00:00+00:00</td>\n",
       "      <td>stock</td>\n",
       "      <td>(Apple, AAPL)</td>\n",
       "    </tr>\n",
       "  </tbody>\n",
       "</table>\n",
       "<p>112 rows × 9 columns</p>\n",
       "</div>"
      ],
      "text/plain": [
       "                                              abstract  \\\n",
       "0    Here’s what you need to know at the end of the...   \n",
       "1    Lawmakers’ objections to an obscure Chinese se...   \n",
       "2    Sometimes we want experts who can sort out the...   \n",
       "3    A high-stakes hearing to decide whether the wo...   \n",
       "4    The move could frustrate law enforcement effor...   \n",
       "..                                                 ...   \n",
       "107  Our dedicated Deals team tracks Apple deals al...   \n",
       "108  It looks like Wirecutter will have a new budge...   \n",
       "109  Apple just rolled out iOS 16.2, a software upd...   \n",
       "110  Apple discounts are few and far between, but P...   \n",
       "111  Editor's note: Cyber Monday is toast. Some of ...   \n",
       "\n",
       "                                               web_url  \\\n",
       "0    https://www.nytimes.com/2022/01/03/briefing/om...   \n",
       "1    https://www.nytimes.com/2022/11/07/business/ap...   \n",
       "2    https://www.nytimes.com/2022/05/05/technology/...   \n",
       "3    https://www.nytimes.com/2022/12/05/opinion/epi...   \n",
       "4    https://www.nytimes.com/2022/12/07/technology/...   \n",
       "..                                                 ...   \n",
       "107  https://www.nytimes.com/wirecutter/money/prime...   \n",
       "108  https://www.nytimes.com/wirecutter/blog/apple-...   \n",
       "109  https://www.nytimes.com/wirecutter/reviews/how...   \n",
       "110  https://www.nytimes.com/wirecutter/money/prime...   \n",
       "111  https://www.nytimes.com/wirecutter/money/apple...   \n",
       "\n",
       "                                               snippet  \\\n",
       "0                                                        \n",
       "1                                                        \n",
       "2                                                        \n",
       "3                                                        \n",
       "4                                                        \n",
       "..                                                 ...   \n",
       "107                                                      \n",
       "108  It looks like Wirecutter will have a new budge...   \n",
       "109  Apple just rolled out iOS 16.2, a software upd...   \n",
       "110                                                      \n",
       "111  Editor's note: Cyber Monday is toast. Some of ...   \n",
       "\n",
       "                                        lead_paragraph              source  \\\n",
       "0    (Want to get this newsletter in your inbox? He...  The New York Times   \n",
       "1    Every September, Apple unveils its latest phon...  The New York Times   \n",
       "2    Gatekeepers like powerful tech companies have ...  The New York Times   \n",
       "3    Apple is the world’s most valuable company. Is...  The New York Times   \n",
       "4    Apple has long promised that what is on your i...  The New York Times   \n",
       "..                                                 ...                 ...   \n",
       "107  Our dedicated Deals team tracks Apple deals al...          Wirecutter   \n",
       "108  It looks like Wirecutter will have a new budge...          Wirecutter   \n",
       "109  Apple just rolled out iOS 16.2, a software upd...          Wirecutter   \n",
       "110  Apple discounts are few and far between, but P...          Wirecutter   \n",
       "111  Editor's note: Cyber Monday is toast. Some of ...          Wirecutter   \n",
       "\n",
       "                                              headline  \\\n",
       "0    Omicron, Apple, Jan. 6: Your Monday Evening Br...   \n",
       "1    Apple Built Its Empire With China. Now Its Fou...   \n",
       "2              Online Deciders Like Apple Have a Point   \n",
       "3             The Battle Royale Over Apple’s App Store   \n",
       "4    Apple Details Plans to Beef Up Encryption of D...   \n",
       "..                                                 ...   \n",
       "107  Prime Day Apple Deals: iPad, MacBook, Apple Wa...   \n",
       "108  The Things That Matter From Apple’s Spring 202...   \n",
       "109  Why You Should Enable Apple’s New Security Fea...   \n",
       "110  The Best Apple Prime Day Deals 2022: Apple Wat...   \n",
       "111  40+ Best Apple Cyber Monday Deals 2022: iPads,...   \n",
       "\n",
       "                     pub_date meta.article_type meta.arguments  \n",
       "0   2022-01-03 22:40:32+00:00             stock  (Apple, AAPL)  \n",
       "1   2022-11-07 23:23:00+00:00             stock  (Apple, AAPL)  \n",
       "2   2022-05-05 16:52:41+00:00             stock  (Apple, AAPL)  \n",
       "3   2022-12-05 20:30:04+00:00             stock  (Apple, AAPL)  \n",
       "4   2022-12-07 21:28:15+00:00             stock  (Apple, AAPL)  \n",
       "..                        ...               ...            ...  \n",
       "107 2022-10-11 00:00:00+00:00             stock  (Apple, AAPL)  \n",
       "108 2022-03-08 00:00:00+00:00             stock  (Apple, AAPL)  \n",
       "109 2022-12-13 00:00:00+00:00             stock  (Apple, AAPL)  \n",
       "110 2022-07-12 00:00:00+00:00             stock  (Apple, AAPL)  \n",
       "111 2022-11-28 00:00:00+00:00             stock  (Apple, AAPL)  \n",
       "\n",
       "[112 rows x 9 columns]"
      ]
     },
     "execution_count": 14,
     "metadata": {},
     "output_type": "execute_result"
    }
   ],
   "source": [
    "hmm"
   ]
  },
  {
   "cell_type": "code",
   "execution_count": 33,
   "metadata": {},
   "outputs": [],
   "source": [
    "docs = resp.json()['response']['docs'] # Get the docs from response\n"
   ]
  },
  {
   "cell_type": "code",
   "execution_count": 34,
   "metadata": {},
   "outputs": [
    {
     "data": {
      "text/plain": [
       "{'abstract': 'The Air Force 1, manufactured in Italy, will be unveiled in a new installation in Brooklyn. It was one of the designer’s final projects before his death.',\n",
       " 'web_url': 'https://www.nytimes.com/2022/05/20/style/louis-vuitton-nike-virgil-abloh.html',\n",
       " 'snippet': 'The Air Force 1, manufactured in Italy, will be unveiled in a new installation in Brooklyn. It was one of the designer’s final projects before his death.',\n",
       " 'lead_paragraph': 'Over the years, Virgil Abloh approached his work with Nike as something slightly different than a straightforward collaborator. He was a tinkerer. A nudger. A questioner. Often his ideas verged on the raw: What if you punch holes in the sneaker? What can we print on it? What if we rendered the invisible parts of construction visible?',\n",
       " 'source': 'The New York Times',\n",
       " 'headline': {'main': 'Louis Vuitton Meets Nike in Virgil Abloh’s Dream Sneaker',\n",
       "  'kicker': None,\n",
       "  'content_kicker': None,\n",
       "  'print_headline': 'Virgil Abloh’s Dream Sneaker, Times 47',\n",
       "  'name': None,\n",
       "  'seo': None,\n",
       "  'sub': None},\n",
       " 'pub_date': '2022-05-20T09:00:39+0000'}"
      ]
     },
     "execution_count": 34,
     "metadata": {},
     "output_type": "execute_result"
    }
   ],
   "source": [
    "docs[0]"
   ]
  },
  {
   "cell_type": "code",
   "execution_count": 15,
   "metadata": {},
   "outputs": [
    {
     "data": {
      "text/plain": [
       "{'abstract': 'The Air Force 1, manufactured in Italy, will be unveiled in a new installation in Brooklyn. It was one of the designer’s final projects before his death.',\n",
       " 'snippet': 'The Air Force 1, manufactured in Italy, will be unveiled in a new installation in Brooklyn. It was one of the designer’s final projects before his death.',\n",
       " 'lead_paragraph': 'Over the years, Virgil Abloh approached his work with Nike as something slightly different than a straightforward collaborator. He was a tinkerer. A nudger. A questioner. Often his ideas verged on the raw: What if you punch holes in the sneaker? What can we print on it? What if we rendered the invisible parts of construction visible?',\n",
       " 'headline': {'main': 'Louis Vuitton Meets Nike in Virgil Abloh’s Dream Sneaker',\n",
       "  'kicker': None,\n",
       "  'content_kicker': None,\n",
       "  'print_headline': 'Virgil Abloh’s Dream Sneaker, Times 47',\n",
       "  'name': None,\n",
       "  'seo': None,\n",
       "  'sub': None},\n",
       " 'pub_date': '2022-05-20T09:00:39+0000'}"
      ]
     },
     "execution_count": 15,
     "metadata": {},
     "output_type": "execute_result"
    }
   ],
   "source": [
    "resp.json()['response']['docs'][0]"
   ]
  },
  {
   "cell_type": "code",
   "execution_count": 16,
   "metadata": {},
   "outputs": [],
   "source": [
    "# function to see an example article when given an index\n",
    "def see_example(num):\n",
    "    if resp.json()['response']['meta']['hits'] == 0:\n",
    "        return \"No hits\"\n",
    "    example = docs[num]\n",
    "    print(example['abstract']) \n",
    "    print(example['snippet'])\n",
    "    print(example['lead_paragraph'])\n",
    "    print(example['headline'])\n"
   ]
  },
  {
   "cell_type": "code",
   "execution_count": 17,
   "metadata": {},
   "outputs": [
    {
     "name": "stdout",
     "output_type": "stream",
     "text": [
      "The Air Force 1, manufactured in Italy, will be unveiled in a new installation in Brooklyn. It was one of the designer’s final projects before his death.\n",
      "The Air Force 1, manufactured in Italy, will be unveiled in a new installation in Brooklyn. It was one of the designer’s final projects before his death.\n",
      "Over the years, Virgil Abloh approached his work with Nike as something slightly different than a straightforward collaborator. He was a tinkerer. A nudger. A questioner. Often his ideas verged on the raw: What if you punch holes in the sneaker? What can we print on it? What if we rendered the invisible parts of construction visible?\n",
      "{'main': 'Louis Vuitton Meets Nike in Virgil Abloh’s Dream Sneaker', 'kicker': None, 'content_kicker': None, 'print_headline': 'Virgil Abloh’s Dream Sneaker, Times 47', 'name': None, 'seo': None, 'sub': None}\n"
     ]
    }
   ],
   "source": [
    "see_example(0)\n"
   ]
  },
  {
   "cell_type": "code",
   "execution_count": 18,
   "metadata": {},
   "outputs": [
    {
     "name": "stdout",
     "output_type": "stream",
     "text": [
      "Barbara Mack hugged Larry Miller after he apologized for killing her brother, Edward David White. But if she were 30 years younger, she told him, “I would have been across that table at you.”\n",
      "Barbara Mack hugged Larry Miller after he apologized for killing her brother, Edward David White. But if she were 30 years younger, she told him, “I would have been across that table at you.”\n",
      "PHILADELPHIA — Barbara Mack lives a block from the corner where her teenage brother was shot to death while on his way home from work on Sept. 30, 1965. Hasan Adams was only 8 months old when the bullet took his father. Azizah Arline was months from being born and never met her dad. More than half a century later, they have finally received an apology from, and discussed restitution with, the man who committed the murder.\n",
      "{'main': 'A Nike Executive Seeks a Family’s Forgiveness for a 1965 Murder', 'kicker': None, 'content_kicker': None, 'print_headline': 'Nike Executive Seeks  Forgiveness of Family   Of ’65 Murder Victim', 'name': None, 'seo': None, 'sub': None}\n"
     ]
    }
   ],
   "source": [
    "see_example(1)"
   ]
  },
  {
   "cell_type": "code",
   "execution_count": 19,
   "metadata": {},
   "outputs": [
    {
     "name": "stdout",
     "output_type": "stream",
     "text": [
      "Why would anyone spend that much for a virtual shoe?\n",
      "Why would anyone spend that much for a virtual shoe?\n",
      "The market for collectible sneakers has skyrocketed in recent years. And until recently, so had the market for NFTs, or nonfungible tokens, which function as digital certificates of ownership for works of art as well as tattoo designs and virtual real estate.\n",
      "{'main': 'Nike Sold an NFT Sneaker for $134,000', 'kicker': None, 'content_kicker': None, 'print_headline': None, 'name': None, 'seo': None, 'sub': None}\n"
     ]
    }
   ],
   "source": [
    "see_example(-1)"
   ]
  },
  {
   "cell_type": "code",
   "execution_count": 48,
   "metadata": {},
   "outputs": [
    {
     "name": "stdout",
     "output_type": "stream",
     "text": [
      "200\n",
      "Hits:  25\n"
     ]
    }
   ],
   "source": [
    "# Example API call to get general market articles betwwn January and May 2022\n",
    "\n",
    "payload = {\n",
    "    # 'fq': 'body:(\"Apple AND stock\")',\n",
    "    'fq': gen_mkt_filter(*market_keywords),\n",
    "    'begin_date': \"2022-01-01\",\n",
    "    'end_date': \"2022-05-31\",\n",
    "    'api-key': key,\n",
    "    'fl': 'lead_paragraph,snippet,abstract,pub_date,headline',\n",
    "    'page': 0\n",
    "}\n",
    "\n",
    "resp = requests.get(url, params=payload) # make GET requests to API\n",
    "print(resp.status_code) # 200 status code success\n",
    "print(\"Hits: \",resp.json()['response']['meta']['hits']) # get the number of article hits"
   ]
  },
  {
   "cell_type": "code",
   "execution_count": 256,
   "metadata": {},
   "outputs": [
    {
     "name": "stdout",
     "output_type": "stream",
     "text": [
      "The Air Force 1, manufactured in Italy, will be unveiled in a new installation in Brooklyn. It was one of the designer’s final projects before his death.\n",
      "The Air Force 1, manufactured in Italy, will be unveiled in a new installation in Brooklyn. It was one of the designer’s final projects before his death.\n",
      "Over the years, Virgil Abloh approached his work with Nike as something slightly different than a straightforward collaborator. He was a tinkerer. A nudger. A questioner. Often his ideas verged on the raw: What if you punch holes in the sneaker? What can we print on it? What if we rendered the invisible parts of construction visible?\n",
      "{'main': 'Louis Vuitton Meets Nike in Virgil Abloh’s Dream Sneaker', 'kicker': None, 'content_kicker': None, 'print_headline': 'Virgil Abloh’s Dream Sneaker, Times 47', 'name': None, 'seo': None, 'sub': None}\n"
     ]
    }
   ],
   "source": [
    "see_example(0)"
   ]
  },
  {
   "cell_type": "code",
   "execution_count": 257,
   "metadata": {},
   "outputs": [
    {
     "name": "stdout",
     "output_type": "stream",
     "text": [
      "Barbara Mack hugged Larry Miller after he apologized for killing her brother, Edward David White. But if she were 30 years younger, she told him, “I would have been across that table at you.”\n",
      "Barbara Mack hugged Larry Miller after he apologized for killing her brother, Edward David White. But if she were 30 years younger, she told him, “I would have been across that table at you.”\n",
      "PHILADELPHIA — Barbara Mack lives a block from the corner where her teenage brother was shot to death while on his way home from work on Sept. 30, 1965. Hasan Adams was only 8 months old when the bullet took his father. Azizah Arline was months from being born and never met her dad. More than half a century later, they have finally received an apology from, and discussed restitution with, the man who committed the murder.\n",
      "{'main': 'A Nike Executive Seeks a Family’s Forgiveness for a 1965 Murder', 'kicker': None, 'content_kicker': None, 'print_headline': 'Nike Executive Seeks  Forgiveness of Family   Of ’65 Murder Victim', 'name': None, 'seo': None, 'sub': None}\n"
     ]
    }
   ],
   "source": [
    "see_example(1)"
   ]
  },
  {
   "cell_type": "code",
   "execution_count": 258,
   "metadata": {},
   "outputs": [
    {
     "name": "stdout",
     "output_type": "stream",
     "text": [
      "Why would anyone spend that much for a virtual shoe?\n",
      "Why would anyone spend that much for a virtual shoe?\n",
      "The market for collectible sneakers has skyrocketed in recent years. And until recently, so had the market for NFTs, or nonfungible tokens, which function as digital certificates of ownership for works of art as well as tattoo designs and virtual real estate.\n",
      "{'main': 'Nike Sold an NFT Sneaker for $134,000', 'kicker': None, 'content_kicker': None, 'print_headline': None, 'name': None, 'seo': None, 'sub': None}\n"
     ]
    }
   ],
   "source": [
    "see_example(-1)"
   ]
  }
 ],
 "metadata": {
  "kernelspec": {
   "display_name": "finance_sentiment_analysis-vciioODX",
   "language": "python",
   "name": "python3"
  },
  "language_info": {
   "codemirror_mode": {
    "name": "ipython",
    "version": 3
   },
   "file_extension": ".py",
   "mimetype": "text/x-python",
   "name": "python",
   "nbconvert_exporter": "python",
   "pygments_lexer": "ipython3",
   "version": "3.12.4"
  }
 },
 "nbformat": 4,
 "nbformat_minor": 2
}
