{
 "cells": [
  {
   "cell_type": "code",
   "execution_count": 10,
   "metadata": {},
   "outputs": [],
   "source": [
    "import requests\n",
    "import pandas as pd\n",
    "import os\n",
    "from dotenv import load_dotenv\n",
    "import sqlite3"
   ]
  },
  {
   "cell_type": "code",
   "execution_count": 11,
   "metadata": {},
   "outputs": [],
   "source": [
    "db_path = os.path.join(os.path.dirname(os.getcwd()), 'data/financials.db')\n",
    "con = sqlite3.connect(db_path)\n",
    "cur = con.cursor()"
   ]
  },
  {
   "cell_type": "code",
   "execution_count": null,
   "metadata": {},
   "outputs": [],
   "source": [
    "cur.execute(\"\"\"\n",
    "CREATE TABLE IF NOT EXISTS economic_indicators (\n",
    "    id INTEGER PRIMARY KEY,\n",
    "    pub_date TEXT,\n",
    "    full_text TEXT,\n",
    "    combined_text TEXT,\n",
    "    source REAL,\n",
    "    web_url TEXT\n",
    ")\n",
    "\"\"\")\n",
    "con.commit()"
   ]
  },
  {
   "cell_type": "code",
   "execution_count": 3,
   "metadata": {},
   "outputs": [],
   "source": [
    "load_dotenv()\n",
    "key = os.getenv(\"ALPHA_VANTAGE_KEY\")"
   ]
  },
  {
   "cell_type": "markdown",
   "metadata": {},
   "source": [
    "### Functions \n",
    "- TIME_SERIES_MONTHLY\n",
    "- NEWS_SENTIMENT\n",
    "- INCOME_STATEMENT\n",
    "- BALANCE_SHEET\n",
    "- CASH_FLOW\n",
    "- EARNINGS\n",
    "- EARNINGS_CALENDAR\n",
    "- REAL_GDP\n",
    "- REAL_GDP_PER_CAPITA\n",
    "- TREASURY_YIELD\n",
    "- FEDERAL_FUNDS_RATE\n",
    "- UNEMPLOYMENT"
   ]
  },
  {
   "cell_type": "code",
   "execution_count": 8,
   "metadata": {},
   "outputs": [],
   "source": [
    "ECONOMIC_FUNCTIONS = [\n",
    "    'FEDERAL_FUNDS_RATE',\n",
    "    'TREASURY_YIELD',\n",
    "    'REAL_GDP_PER_CAPITA',\n",
    "    'REAL_GDP',\n",
    "    'CPI',\n",
    "    'INFLATION',\n",
    "    'RETAIL_SALES',\n",
    "    'DURABLES',\n",
    "    'UNEMPLOYMENT',\n",
    "    'NONFARM_PAYROLL'\n",
    "]"
   ]
  },
  {
   "cell_type": "code",
   "execution_count": 14,
   "metadata": {},
   "outputs": [],
   "source": [
    "ALPHA_VANTAGE_URL = \"https://www.alphavantage.co/query\"\n"
   ]
  },
  {
   "cell_type": "code",
   "execution_count": 60,
   "metadata": {},
   "outputs": [],
   "source": [
    "def get_economic_data(func, api_key, **kwargs):\n",
    "    for key in kwargs.keys():\n",
    "        if key not in ('interval','maturity'):\n",
    "            raise ValueError(f\"kwarg {key} not accepted\")\n",
    "    url = \"https://www.alphavantage.co/query\"\n",
    "    params = {\n",
    "        'function': func,\n",
    "        'apikey': api_key\n",
    "    }\n",
    "    params.update(kwargs)\n",
    "    \n",
    "    if 'maturity' in params:\n",
    "        if func != 'TREASURY_YIELD':\n",
    "            params.pop('maturity')\n",
    "        else:\n",
    "            maturities = ('3month', '2year', '5year', '7year', '10year', '30year')\n",
    "            if params['maturity'] not in maturities:\n",
    "                raise ValueError(f\"Maturity has to be one of {maturities}\")\n",
    "    if 'interval' in params:\n",
    "        if func in ('FEDERAL_FUNDS_RATE', 'TREASURY_YIELD'):\n",
    "            intervals = ('daily', 'weekly', 'monthly')\n",
    "        elif func == 'REAL_GDP':\n",
    "            intervals = ('quarterly', 'annual')\n",
    "        elif func == 'CPI':\n",
    "            intervals = ('monthly', 'semiannual')\n",
    "        else:\n",
    "            raise RuntimeError(f\"interval provided for a Economic Function that doesn't need it: {func}\")\n",
    "        if params['interval'] not in intervals:\n",
    "            raise ValueError(f\"Interval for {func} has to be one of {intervals}\")\n",
    "\n",
    "    resp = requests.get(url, params=params)\n",
    "    if resp.status_code == 200:\n",
    "        df = pd.json_normalize(\n",
    "            data=resp.json(),\n",
    "            record_path='data',\n",
    "            meta= ['name','interval','unit']\n",
    "            ).rename({'name': 'economic_indicator'},axis=1)\n",
    "        return df\n",
    "    else:\n",
    "        raise requests.HTTPError(f\"HTTP Error: {resp.status_code}\")\n",
    "    \n",
    "    \n"
   ]
  },
  {
   "cell_type": "code",
   "execution_count": 59,
   "metadata": {},
   "outputs": [
    {
     "data": {
      "text/plain": [
       "{'function': 'TREASURY_YIELD',\n",
       " 'apikey': 'key',\n",
       " 'maturity': '10year',\n",
       " 'interval': 'daily'}"
      ]
     },
     "execution_count": 59,
     "metadata": {},
     "output_type": "execute_result"
    }
   ],
   "source": [
    "get_economic_data(\"TREASURY_YIELD\",\"key\",maturity = \"10year\",interval = \"daily\")"
   ]
  },
  {
   "cell_type": "code",
   "execution_count": 45,
   "metadata": {},
   "outputs": [
    {
     "data": {
      "text/plain": [
       "['FEDERAL_FUNDS_RATE',\n",
       " 'TREASURY_YIELD',\n",
       " 'REAL_GDP_PER_CAPITA',\n",
       " 'REAL_GDP',\n",
       " 'CPI',\n",
       " 'INFLATION',\n",
       " 'RETAIL_SALES',\n",
       " 'DURABLES',\n",
       " 'UNEMPLOYMENT',\n",
       " 'NONFARM_PAYROLL']"
      ]
     },
     "execution_count": 45,
     "metadata": {},
     "output_type": "execute_result"
    }
   ],
   "source": [
    "ECONOMIC_FUNCTIONS"
   ]
  },
  {
   "cell_type": "code",
   "execution_count": 16,
   "metadata": {},
   "outputs": [],
   "source": [
    "test = get_economic_data(ECONOMIC_FUNCTIONS[0], api_key=key)"
   ]
  },
  {
   "cell_type": "code",
   "execution_count": 22,
   "metadata": {},
   "outputs": [],
   "source": [
    "data = test.json()"
   ]
  },
  {
   "cell_type": "code",
   "execution_count": 61,
   "metadata": {},
   "outputs": [],
   "source": [
    "df = pd.json_normalize(\n",
    "    data=data,\n",
    "    record_path='data',\n",
    "    meta= ['name','interval','unit'],\n",
    "    \n",
    ").rename({'name': 'economic_indicator'},axis=1)"
   ]
  },
  {
   "cell_type": "code",
   "execution_count": 9,
   "metadata": {},
   "outputs": [
    {
     "name": "stdout",
     "output_type": "stream",
     "text": [
      "FEDERAL_FUNDS_RATE\n",
      "TREASURY_YIELD\n",
      "REAL_GDP_PER_CAPITA\n",
      "REAL_GDP\n",
      "CPI\n",
      "INFLATION\n",
      "RETAIL_SALES\n",
      "DURABLES\n",
      "UNEMPLOYMENT\n",
      "NONFARM_PAYROLL\n"
     ]
    }
   ],
   "source": [
    "data = {}\n",
    "\n",
    "for func in ECONOMIC_FUNCTIONS:\n",
    "    print(func)"
   ]
  }
 ],
 "metadata": {
  "kernelspec": {
   "display_name": "finance_sentiment_analysis-vciioODX",
   "language": "python",
   "name": "python3"
  },
  "language_info": {
   "codemirror_mode": {
    "name": "ipython",
    "version": 3
   },
   "file_extension": ".py",
   "mimetype": "text/x-python",
   "name": "python",
   "nbconvert_exporter": "python",
   "pygments_lexer": "ipython3",
   "version": "3.12.4"
  }
 },
 "nbformat": 4,
 "nbformat_minor": 2
}
