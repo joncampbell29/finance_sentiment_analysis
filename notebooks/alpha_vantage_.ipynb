{
 "cells": [
  {
   "cell_type": "code",
   "execution_count": 10,
   "metadata": {},
   "outputs": [],
   "source": [
    "import requests\n",
    "import pandas as pd\n",
    "import os\n",
    "from dotenv import load_dotenv\n",
    "import sqlite3"
   ]
  },
  {
   "cell_type": "code",
   "execution_count": 11,
   "metadata": {},
   "outputs": [],
   "source": [
    "db_path = os.path.join(os.path.dirname(os.getcwd()), 'data/financials.db')\n",
    "con = sqlite3.connect(db_path)\n",
    "cur = con.cursor()"
   ]
  },
  {
   "cell_type": "code",
   "execution_count": null,
   "metadata": {},
   "outputs": [],
   "source": [
    "cur.execute(\"\"\"\n",
    "CREATE TABLE IF NOT EXISTS economic_indicators (\n",
    "    id INTEGER PRIMARY KEY,\n",
    "    pub_date TEXT,\n",
    "    full_text TEXT,\n",
    "    combined_text TEXT,\n",
    "    source REAL,\n",
    "    web_url TEXT\n",
    ")\n",
    "\"\"\")\n",
    "con.commit()"
   ]
  },
  {
   "cell_type": "code",
   "execution_count": 3,
   "metadata": {},
   "outputs": [],
   "source": [
    "load_dotenv()\n",
    "key = os.getenv(\"ALPHA_VANTAGE_KEY\")"
   ]
  },
  {
   "cell_type": "markdown",
   "metadata": {},
   "source": [
    "### Functions \n",
    "- TIME_SERIES_MONTHLY\n",
    "- NEWS_SENTIMENT\n",
    "- INCOME_STATEMENT\n",
    "- BALANCE_SHEET\n",
    "- CASH_FLOW\n",
    "- EARNINGS\n",
    "- EARNINGS_CALENDAR\n",
    "- REAL_GDP\n",
    "- REAL_GDP_PER_CAPITA\n",
    "- TREASURY_YIELD\n",
    "- FEDERAL_FUNDS_RATE\n",
    "- UNEMPLOYMENT"
   ]
  },
  {
   "cell_type": "code",
   "execution_count": 8,
   "metadata": {},
   "outputs": [],
   "source": [
    "ECONOMIC_FUNCTIONS = [\n",
    "    'FEDERAL_FUNDS_RATE',\n",
    "    'TREASURY_YIELD',\n",
    "    'REAL_GDP_PER_CAPITA',\n",
    "    'REAL_GDP',\n",
    "    'CPI',\n",
    "    'INFLATION',\n",
    "    'RETAIL_SALES',\n",
    "    'DURABLES',\n",
    "    'UNEMPLOYMENT',\n",
    "    'NONFARM_PAYROLL'\n",
    "]"
   ]
  },
  {
   "cell_type": "code",
   "execution_count": 14,
   "metadata": {},
   "outputs": [],
   "source": [
    "ALPHA_VANTAGE_URL = \"https://www.alphavantage.co/query\"\n"
   ]
  },
  {
   "cell_type": "code",
   "execution_count": 60,
   "metadata": {},
   "outputs": [],
   "source": [
    "def get_economic_data(func, api_key, **kwargs):\n",
    "    for key in kwargs.keys():\n",
    "        if key not in ('interval','maturity'):\n",
    "            raise ValueError(f\"kwarg {key} not accepted\")\n",
    "    url = \"https://www.alphavantage.co/query\"\n",
    "    params = {\n",
    "        'function': func,\n",
    "        'apikey': api_key\n",
    "    }\n",
    "    params.update(kwargs)\n",
    "    \n",
    "    if 'maturity' in params:\n",
    "        if func != 'TREASURY_YIELD':\n",
    "            params.pop('maturity')\n",
    "        else:\n",
    "            maturities = ('3month', '2year', '5year', '7year', '10year', '30year')\n",
    "            if params['maturity'] not in maturities:\n",
    "                raise ValueError(f\"Maturity has to be one of {maturities}\")\n",
    "    if 'interval' in params:\n",
    "        if func in ('FEDERAL_FUNDS_RATE', 'TREASURY_YIELD'):\n",
    "            intervals = ('daily', 'weekly', 'monthly')\n",
    "        elif func == 'REAL_GDP':\n",
    "            intervals = ('quarterly', 'annual')\n",
    "        elif func == 'CPI':\n",
    "            intervals = ('monthly', 'semiannual')\n",
    "        else:\n",
    "            raise RuntimeError(f\"interval provided for a Economic Function that doesn't need it: {func}\")\n",
    "        if params['interval'] not in intervals:\n",
    "            raise ValueError(f\"Interval for {func} has to be one of {intervals}\")\n",
    "\n",
    "    resp = requests.get(url, params=params)\n",
    "    if resp.status_code == 200:\n",
    "        df = pd.json_normalize(\n",
    "            data=resp.json(),\n",
    "            record_path='data',\n",
    "            meta= ['name','interval','unit']\n",
    "            ).rename({'name': 'economic_indicator'},axis=1)\n",
    "        return df\n",
    "    else:\n",
    "        raise requests.HTTPError(f\"HTTP Error: {resp.status_code}\")\n",
    "    \n",
    "    \n"
   ]
  },
  {
   "cell_type": "code",
   "execution_count": 59,
   "metadata": {},
   "outputs": [
    {
     "data": {
      "text/plain": [
       "{'function': 'TREASURY_YIELD',\n",
       " 'apikey': 'key',\n",
       " 'maturity': '10year',\n",
       " 'interval': 'daily'}"
      ]
     },
     "execution_count": 59,
     "metadata": {},
     "output_type": "execute_result"
    }
   ],
   "source": [
    "get_economic_data(\"TREASURY_YIELD\",\"key\",maturity = \"10year\",interval = \"daily\")"
   ]
  },
  {
   "cell_type": "code",
   "execution_count": 45,
   "metadata": {},
   "outputs": [
    {
     "data": {
      "text/plain": [
       "['FEDERAL_FUNDS_RATE',\n",
       " 'TREASURY_YIELD',\n",
       " 'REAL_GDP_PER_CAPITA',\n",
       " 'REAL_GDP',\n",
       " 'CPI',\n",
       " 'INFLATION',\n",
       " 'RETAIL_SALES',\n",
       " 'DURABLES',\n",
       " 'UNEMPLOYMENT',\n",
       " 'NONFARM_PAYROLL']"
      ]
     },
     "execution_count": 45,
     "metadata": {},
     "output_type": "execute_result"
    }
   ],
   "source": [
    "ECONOMIC_FUNCTIONS"
   ]
  },
  {
   "cell_type": "code",
   "execution_count": 16,
   "metadata": {},
   "outputs": [],
   "source": [
    "test = get_economic_data(ECONOMIC_FUNCTIONS[0], api_key=key)"
   ]
  },
  {
   "cell_type": "code",
   "execution_count": 22,
   "metadata": {},
   "outputs": [],
   "source": [
    "data = test.json()"
   ]
  },
  {
   "cell_type": "code",
   "execution_count": 32,
   "metadata": {},
   "outputs": [
    {
     "data": {
      "text/html": [
       "<div>\n",
       "<style scoped>\n",
       "    .dataframe tbody tr th:only-of-type {\n",
       "        vertical-align: middle;\n",
       "    }\n",
       "\n",
       "    .dataframe tbody tr th {\n",
       "        vertical-align: top;\n",
       "    }\n",
       "\n",
       "    .dataframe thead th {\n",
       "        text-align: right;\n",
       "    }\n",
       "</style>\n",
       "<table border=\"1\" class=\"dataframe\">\n",
       "  <thead>\n",
       "    <tr style=\"text-align: right;\">\n",
       "      <th></th>\n",
       "      <th>date</th>\n",
       "      <th>value</th>\n",
       "      <th>economic_indicator</th>\n",
       "      <th>interval</th>\n",
       "      <th>unit</th>\n",
       "    </tr>\n",
       "  </thead>\n",
       "  <tbody>\n",
       "    <tr>\n",
       "      <th>0</th>\n",
       "      <td>2024-06-01</td>\n",
       "      <td>5.33</td>\n",
       "      <td>Effective Federal Funds Rate</td>\n",
       "      <td>monthly</td>\n",
       "      <td>percent</td>\n",
       "    </tr>\n",
       "    <tr>\n",
       "      <th>1</th>\n",
       "      <td>2024-05-01</td>\n",
       "      <td>5.33</td>\n",
       "      <td>Effective Federal Funds Rate</td>\n",
       "      <td>monthly</td>\n",
       "      <td>percent</td>\n",
       "    </tr>\n",
       "    <tr>\n",
       "      <th>2</th>\n",
       "      <td>2024-04-01</td>\n",
       "      <td>5.33</td>\n",
       "      <td>Effective Federal Funds Rate</td>\n",
       "      <td>monthly</td>\n",
       "      <td>percent</td>\n",
       "    </tr>\n",
       "    <tr>\n",
       "      <th>3</th>\n",
       "      <td>2024-03-01</td>\n",
       "      <td>5.33</td>\n",
       "      <td>Effective Federal Funds Rate</td>\n",
       "      <td>monthly</td>\n",
       "      <td>percent</td>\n",
       "    </tr>\n",
       "    <tr>\n",
       "      <th>4</th>\n",
       "      <td>2024-02-01</td>\n",
       "      <td>5.33</td>\n",
       "      <td>Effective Federal Funds Rate</td>\n",
       "      <td>monthly</td>\n",
       "      <td>percent</td>\n",
       "    </tr>\n",
       "    <tr>\n",
       "      <th>...</th>\n",
       "      <td>...</td>\n",
       "      <td>...</td>\n",
       "      <td>...</td>\n",
       "      <td>...</td>\n",
       "      <td>...</td>\n",
       "    </tr>\n",
       "    <tr>\n",
       "      <th>835</th>\n",
       "      <td>1954-11-01</td>\n",
       "      <td>0.83</td>\n",
       "      <td>Effective Federal Funds Rate</td>\n",
       "      <td>monthly</td>\n",
       "      <td>percent</td>\n",
       "    </tr>\n",
       "    <tr>\n",
       "      <th>836</th>\n",
       "      <td>1954-10-01</td>\n",
       "      <td>0.85</td>\n",
       "      <td>Effective Federal Funds Rate</td>\n",
       "      <td>monthly</td>\n",
       "      <td>percent</td>\n",
       "    </tr>\n",
       "    <tr>\n",
       "      <th>837</th>\n",
       "      <td>1954-09-01</td>\n",
       "      <td>1.07</td>\n",
       "      <td>Effective Federal Funds Rate</td>\n",
       "      <td>monthly</td>\n",
       "      <td>percent</td>\n",
       "    </tr>\n",
       "    <tr>\n",
       "      <th>838</th>\n",
       "      <td>1954-08-01</td>\n",
       "      <td>1.22</td>\n",
       "      <td>Effective Federal Funds Rate</td>\n",
       "      <td>monthly</td>\n",
       "      <td>percent</td>\n",
       "    </tr>\n",
       "    <tr>\n",
       "      <th>839</th>\n",
       "      <td>1954-07-01</td>\n",
       "      <td>0.80</td>\n",
       "      <td>Effective Federal Funds Rate</td>\n",
       "      <td>monthly</td>\n",
       "      <td>percent</td>\n",
       "    </tr>\n",
       "  </tbody>\n",
       "</table>\n",
       "<p>840 rows × 5 columns</p>\n",
       "</div>"
      ],
      "text/plain": [
       "           date value            economic_indicator interval     unit\n",
       "0    2024-06-01  5.33  Effective Federal Funds Rate  monthly  percent\n",
       "1    2024-05-01  5.33  Effective Federal Funds Rate  monthly  percent\n",
       "2    2024-04-01  5.33  Effective Federal Funds Rate  monthly  percent\n",
       "3    2024-03-01  5.33  Effective Federal Funds Rate  monthly  percent\n",
       "4    2024-02-01  5.33  Effective Federal Funds Rate  monthly  percent\n",
       "..          ...   ...                           ...      ...      ...\n",
       "835  1954-11-01  0.83  Effective Federal Funds Rate  monthly  percent\n",
       "836  1954-10-01  0.85  Effective Federal Funds Rate  monthly  percent\n",
       "837  1954-09-01  1.07  Effective Federal Funds Rate  monthly  percent\n",
       "838  1954-08-01  1.22  Effective Federal Funds Rate  monthly  percent\n",
       "839  1954-07-01  0.80  Effective Federal Funds Rate  monthly  percent\n",
       "\n",
       "[840 rows x 5 columns]"
      ]
     },
     "execution_count": 32,
     "metadata": {},
     "output_type": "execute_result"
    }
   ],
   "source": [
    "pd.json_normalize(\n",
    "    data=data,\n",
    "    record_path='data',\n",
    "    meta= ['name','interval','unit'],\n",
    "    \n",
    ").rename({'name': 'economic_indicator'},axis=1)"
   ]
  },
  {
   "cell_type": "code",
   "execution_count": 9,
   "metadata": {},
   "outputs": [
    {
     "name": "stdout",
     "output_type": "stream",
     "text": [
      "FEDERAL_FUNDS_RATE\n",
      "TREASURY_YIELD\n",
      "REAL_GDP_PER_CAPITA\n",
      "REAL_GDP\n",
      "CPI\n",
      "INFLATION\n",
      "RETAIL_SALES\n",
      "DURABLES\n",
      "UNEMPLOYMENT\n",
      "NONFARM_PAYROLL\n"
     ]
    }
   ],
   "source": [
    "data = {}\n",
    "\n",
    "for func in ECONOMIC_FUNCTIONS:\n",
    "    print(func)"
   ]
  }
 ],
 "metadata": {
  "kernelspec": {
   "display_name": "finance_sentiment_analysis-vciioODX",
   "language": "python",
   "name": "python3"
  },
  "language_info": {
   "codemirror_mode": {
    "name": "ipython",
    "version": 3
   },
   "file_extension": ".py",
   "mimetype": "text/x-python",
   "name": "python",
   "nbconvert_exporter": "python",
   "pygments_lexer": "ipython3",
   "version": "3.12.4"
  }
 },
 "nbformat": 4,
 "nbformat_minor": 2
}
