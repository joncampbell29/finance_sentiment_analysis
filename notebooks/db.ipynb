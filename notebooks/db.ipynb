{
 "cells": [
  {
   "cell_type": "code",
   "execution_count": 1,
   "metadata": {},
   "outputs": [],
   "source": [
    "import os\n",
    "import sys\n",
    "sys.path.insert(0, os.path.dirname(os.getcwd()))"
   ]
  },
  {
   "cell_type": "code",
   "execution_count": 2,
   "metadata": {},
   "outputs": [],
   "source": [
    "import sqlite3\n",
    "import os\n",
    "from datetime import datetime, timedelta\n",
    "import pandas as pd\n",
    "from utils.nyt_api_helpers import get_project_root\n",
    "from utils.feature_helpers import clean_df, gen_full_text_df, combine_text_args_df\n"
   ]
  },
  {
   "cell_type": "code",
   "execution_count": 3,
   "metadata": {},
   "outputs": [],
   "source": [
    "db_path = os.path.join(os.path.dirname(os.getcwd()), 'data/test.db')\n",
    "PATH = get_project_root().joinpath('data/nyt/raw/raw_mkt_articles.csv')\n",
    "df = pd.read_csv(PATH, index_col=0)\n",
    "df = combine_text_args_df(gen_full_text_df(clean_df(df)), keep_all_cols=False)\n",
    "df.index.name = \"id\""
   ]
  },
  {
   "cell_type": "code",
   "execution_count": 8,
   "metadata": {},
   "outputs": [],
   "source": [
    "df1 = df.iloc[:200]\n",
    "df2 = df.iloc[190:].copy()"
   ]
  },
  {
   "cell_type": "code",
   "execution_count": 5,
   "metadata": {},
   "outputs": [],
   "source": [
    "df2.reset_index(drop=True, inplace=True)\n"
   ]
  },
  {
   "cell_type": "code",
   "execution_count": 9,
   "metadata": {},
   "outputs": [
    {
     "data": {
      "text/html": [
       "<div>\n",
       "<style scoped>\n",
       "    .dataframe tbody tr th:only-of-type {\n",
       "        vertical-align: middle;\n",
       "    }\n",
       "\n",
       "    .dataframe tbody tr th {\n",
       "        vertical-align: top;\n",
       "    }\n",
       "\n",
       "    .dataframe thead th {\n",
       "        text-align: right;\n",
       "    }\n",
       "</style>\n",
       "<table border=\"1\" class=\"dataframe\">\n",
       "  <thead>\n",
       "    <tr style=\"text-align: right;\">\n",
       "      <th></th>\n",
       "      <th>web_url</th>\n",
       "      <th>source</th>\n",
       "      <th>pub_date</th>\n",
       "      <th>full_text</th>\n",
       "      <th>combined_text</th>\n",
       "    </tr>\n",
       "    <tr>\n",
       "      <th>id</th>\n",
       "      <th></th>\n",
       "      <th></th>\n",
       "      <th></th>\n",
       "      <th></th>\n",
       "      <th></th>\n",
       "    </tr>\n",
       "  </thead>\n",
       "  <tbody>\n",
       "    <tr>\n",
       "      <th>195</th>\n",
       "      <td>https://www.nytimes.com/2023/10/24/business/ec...</td>\n",
       "      <td>The New York Times</td>\n",
       "      <td>2023-10-24 10:30:07+00:00</td>\n",
       "      <td>G.M. Profit Down 7% in Strike-Affected Quarter...</td>\n",
       "      <td>G.M. Profit Down 7% in Strike-Affected Quarter...</td>\n",
       "    </tr>\n",
       "    <tr>\n",
       "      <th>196</th>\n",
       "      <td>https://www.nytimes.com/2021/04/29/business/ca...</td>\n",
       "      <td>The New York Times</td>\n",
       "      <td>2021-04-29 08:41:03+00:00</td>\n",
       "      <td>Catch up: Apple and Facebook profits doubled l...</td>\n",
       "      <td>Catch up: Apple and Facebook profits doubled l...</td>\n",
       "    </tr>\n",
       "    <tr>\n",
       "      <th>197</th>\n",
       "      <td>https://www.nytimes.com/2022/01/27/technology/...</td>\n",
       "      <td>The New York Times</td>\n",
       "      <td>2022-01-27 21:54:14+00:00</td>\n",
       "      <td>Apple’s profit jumps to $34.6 billion in holid...</td>\n",
       "      <td>Apple’s profit jumps to $34.6 billion in holid...</td>\n",
       "    </tr>\n",
       "    <tr>\n",
       "      <th>198</th>\n",
       "      <td>https://www.nytimes.com/2022/08/17/business/ta...</td>\n",
       "      <td>The New York Times</td>\n",
       "      <td>2022-08-17 11:18:34+00:00</td>\n",
       "      <td>Target’s Profit Sinks as It Offloads Inventory...</td>\n",
       "      <td>Target’s Profit Sinks as It Offloads Inventory...</td>\n",
       "    </tr>\n",
       "    <tr>\n",
       "      <th>199</th>\n",
       "      <td>https://www.nytimes.com/2022/04/26/technology/...</td>\n",
       "      <td>The New York Times</td>\n",
       "      <td>2022-04-26 20:35:08+00:00</td>\n",
       "      <td>Microsoft reports rising revenue and profits, ...</td>\n",
       "      <td>Microsoft reports rising revenue and profits, ...</td>\n",
       "    </tr>\n",
       "  </tbody>\n",
       "</table>\n",
       "</div>"
      ],
      "text/plain": [
       "                                               web_url              source  \\\n",
       "id                                                                           \n",
       "195  https://www.nytimes.com/2023/10/24/business/ec...  The New York Times   \n",
       "196  https://www.nytimes.com/2021/04/29/business/ca...  The New York Times   \n",
       "197  https://www.nytimes.com/2022/01/27/technology/...  The New York Times   \n",
       "198  https://www.nytimes.com/2022/08/17/business/ta...  The New York Times   \n",
       "199  https://www.nytimes.com/2022/04/26/technology/...  The New York Times   \n",
       "\n",
       "                     pub_date  \\\n",
       "id                              \n",
       "195 2023-10-24 10:30:07+00:00   \n",
       "196 2021-04-29 08:41:03+00:00   \n",
       "197 2022-01-27 21:54:14+00:00   \n",
       "198 2022-08-17 11:18:34+00:00   \n",
       "199 2022-04-26 20:35:08+00:00   \n",
       "\n",
       "                                             full_text  \\\n",
       "id                                                       \n",
       "195  G.M. Profit Down 7% in Strike-Affected Quarter...   \n",
       "196  Catch up: Apple and Facebook profits doubled l...   \n",
       "197  Apple’s profit jumps to $34.6 billion in holid...   \n",
       "198  Target’s Profit Sinks as It Offloads Inventory...   \n",
       "199  Microsoft reports rising revenue and profits, ...   \n",
       "\n",
       "                                         combined_text  \n",
       "id                                                      \n",
       "195  G.M. Profit Down 7% in Strike-Affected Quarter...  \n",
       "196  Catch up: Apple and Facebook profits doubled l...  \n",
       "197  Apple’s profit jumps to $34.6 billion in holid...  \n",
       "198  Target’s Profit Sinks as It Offloads Inventory...  \n",
       "199  Microsoft reports rising revenue and profits, ...  "
      ]
     },
     "execution_count": 9,
     "metadata": {},
     "output_type": "execute_result"
    }
   ],
   "source": [
    "df1.tail()"
   ]
  },
  {
   "cell_type": "code",
   "execution_count": 11,
   "metadata": {},
   "outputs": [
    {
     "data": {
      "text/html": [
       "<div>\n",
       "<style scoped>\n",
       "    .dataframe tbody tr th:only-of-type {\n",
       "        vertical-align: middle;\n",
       "    }\n",
       "\n",
       "    .dataframe tbody tr th {\n",
       "        vertical-align: top;\n",
       "    }\n",
       "\n",
       "    .dataframe thead th {\n",
       "        text-align: right;\n",
       "    }\n",
       "</style>\n",
       "<table border=\"1\" class=\"dataframe\">\n",
       "  <thead>\n",
       "    <tr style=\"text-align: right;\">\n",
       "      <th></th>\n",
       "      <th>web_url</th>\n",
       "      <th>source</th>\n",
       "      <th>pub_date</th>\n",
       "      <th>full_text</th>\n",
       "      <th>combined_text</th>\n",
       "    </tr>\n",
       "    <tr>\n",
       "      <th>id</th>\n",
       "      <th></th>\n",
       "      <th></th>\n",
       "      <th></th>\n",
       "      <th></th>\n",
       "      <th></th>\n",
       "    </tr>\n",
       "  </thead>\n",
       "  <tbody>\n",
       "    <tr>\n",
       "      <th>190</th>\n",
       "      <td>https://www.nytimes.com/2021/10/15/business/go...</td>\n",
       "      <td>The New York Times</td>\n",
       "      <td>2021-10-15 13:44:31+00:00</td>\n",
       "      <td>Goldman Sachs’s profit surges on record merger...</td>\n",
       "      <td>Goldman Sachs’s profit surges on record merger...</td>\n",
       "    </tr>\n",
       "    <tr>\n",
       "      <th>191</th>\n",
       "      <td>https://www.nytimes.com/2022/11/26/business/vi...</td>\n",
       "      <td>The New York Times</td>\n",
       "      <td>2022-11-26 08:00:15+00:00</td>\n",
       "      <td>The Excitement Around E-Sports Is Growing. But...</td>\n",
       "      <td>The Excitement Around E-Sports Is Growing. But...</td>\n",
       "    </tr>\n",
       "    <tr>\n",
       "      <th>192</th>\n",
       "      <td>https://www.nytimes.com/2023/02/02/business/sh...</td>\n",
       "      <td>The New York Times</td>\n",
       "      <td>2023-02-02 11:59:26+00:00</td>\n",
       "      <td>Shell’s Profit Soared to $42 Billion Last Year...</td>\n",
       "      <td>Shell’s Profit Soared to $42 Billion Last Year...</td>\n",
       "    </tr>\n",
       "    <tr>\n",
       "      <th>193</th>\n",
       "      <td>https://www.nytimes.com/2023/08/03/business/ap...</td>\n",
       "      <td>The New York Times</td>\n",
       "      <td>2023-08-03 20:57:30+00:00</td>\n",
       "      <td>Apple Revenue Drops 1%, but Profit Rises to $1...</td>\n",
       "      <td>Apple Revenue Drops 1%, but Profit Rises to $1...</td>\n",
       "    </tr>\n",
       "    <tr>\n",
       "      <th>194</th>\n",
       "      <td>https://www.nytimes.com/2024/03/09/business/to...</td>\n",
       "      <td>The New York Times</td>\n",
       "      <td>2024-03-09 10:02:31+00:00</td>\n",
       "      <td>Toyota’s Hybrid-First Strategy Is Delivering B...</td>\n",
       "      <td>Toyota’s Hybrid-First Strategy Is Delivering B...</td>\n",
       "    </tr>\n",
       "    <tr>\n",
       "      <th>195</th>\n",
       "      <td>https://www.nytimes.com/2023/10/24/business/ec...</td>\n",
       "      <td>The New York Times</td>\n",
       "      <td>2023-10-24 10:30:07+00:00</td>\n",
       "      <td>G.M. Profit Down 7% in Strike-Affected Quarter...</td>\n",
       "      <td>G.M. Profit Down 7% in Strike-Affected Quarter...</td>\n",
       "    </tr>\n",
       "    <tr>\n",
       "      <th>196</th>\n",
       "      <td>https://www.nytimes.com/2021/04/29/business/ca...</td>\n",
       "      <td>The New York Times</td>\n",
       "      <td>2021-04-29 08:41:03+00:00</td>\n",
       "      <td>Catch up: Apple and Facebook profits doubled l...</td>\n",
       "      <td>Catch up: Apple and Facebook profits doubled l...</td>\n",
       "    </tr>\n",
       "    <tr>\n",
       "      <th>197</th>\n",
       "      <td>https://www.nytimes.com/2022/01/27/technology/...</td>\n",
       "      <td>The New York Times</td>\n",
       "      <td>2022-01-27 21:54:14+00:00</td>\n",
       "      <td>Apple’s profit jumps to $34.6 billion in holid...</td>\n",
       "      <td>Apple’s profit jumps to $34.6 billion in holid...</td>\n",
       "    </tr>\n",
       "    <tr>\n",
       "      <th>198</th>\n",
       "      <td>https://www.nytimes.com/2022/08/17/business/ta...</td>\n",
       "      <td>The New York Times</td>\n",
       "      <td>2022-08-17 11:18:34+00:00</td>\n",
       "      <td>Target’s Profit Sinks as It Offloads Inventory...</td>\n",
       "      <td>Target’s Profit Sinks as It Offloads Inventory...</td>\n",
       "    </tr>\n",
       "    <tr>\n",
       "      <th>199</th>\n",
       "      <td>https://www.nytimes.com/2022/04/26/technology/...</td>\n",
       "      <td>The New York Times</td>\n",
       "      <td>2022-04-26 20:35:08+00:00</td>\n",
       "      <td>Microsoft reports rising revenue and profits, ...</td>\n",
       "      <td>Microsoft reports rising revenue and profits, ...</td>\n",
       "    </tr>\n",
       "  </tbody>\n",
       "</table>\n",
       "</div>"
      ],
      "text/plain": [
       "                                               web_url              source  \\\n",
       "id                                                                           \n",
       "190  https://www.nytimes.com/2021/10/15/business/go...  The New York Times   \n",
       "191  https://www.nytimes.com/2022/11/26/business/vi...  The New York Times   \n",
       "192  https://www.nytimes.com/2023/02/02/business/sh...  The New York Times   \n",
       "193  https://www.nytimes.com/2023/08/03/business/ap...  The New York Times   \n",
       "194  https://www.nytimes.com/2024/03/09/business/to...  The New York Times   \n",
       "195  https://www.nytimes.com/2023/10/24/business/ec...  The New York Times   \n",
       "196  https://www.nytimes.com/2021/04/29/business/ca...  The New York Times   \n",
       "197  https://www.nytimes.com/2022/01/27/technology/...  The New York Times   \n",
       "198  https://www.nytimes.com/2022/08/17/business/ta...  The New York Times   \n",
       "199  https://www.nytimes.com/2022/04/26/technology/...  The New York Times   \n",
       "\n",
       "                     pub_date  \\\n",
       "id                              \n",
       "190 2021-10-15 13:44:31+00:00   \n",
       "191 2022-11-26 08:00:15+00:00   \n",
       "192 2023-02-02 11:59:26+00:00   \n",
       "193 2023-08-03 20:57:30+00:00   \n",
       "194 2024-03-09 10:02:31+00:00   \n",
       "195 2023-10-24 10:30:07+00:00   \n",
       "196 2021-04-29 08:41:03+00:00   \n",
       "197 2022-01-27 21:54:14+00:00   \n",
       "198 2022-08-17 11:18:34+00:00   \n",
       "199 2022-04-26 20:35:08+00:00   \n",
       "\n",
       "                                             full_text  \\\n",
       "id                                                       \n",
       "190  Goldman Sachs’s profit surges on record merger...   \n",
       "191  The Excitement Around E-Sports Is Growing. But...   \n",
       "192  Shell’s Profit Soared to $42 Billion Last Year...   \n",
       "193  Apple Revenue Drops 1%, but Profit Rises to $1...   \n",
       "194  Toyota’s Hybrid-First Strategy Is Delivering B...   \n",
       "195  G.M. Profit Down 7% in Strike-Affected Quarter...   \n",
       "196  Catch up: Apple and Facebook profits doubled l...   \n",
       "197  Apple’s profit jumps to $34.6 billion in holid...   \n",
       "198  Target’s Profit Sinks as It Offloads Inventory...   \n",
       "199  Microsoft reports rising revenue and profits, ...   \n",
       "\n",
       "                                         combined_text  \n",
       "id                                                      \n",
       "190  Goldman Sachs’s profit surges on record merger...  \n",
       "191  The Excitement Around E-Sports Is Growing. But...  \n",
       "192  Shell’s Profit Soared to $42 Billion Last Year...  \n",
       "193  Apple Revenue Drops 1%, but Profit Rises to $1...  \n",
       "194  Toyota’s Hybrid-First Strategy Is Delivering B...  \n",
       "195  G.M. Profit Down 7% in Strike-Affected Quarter...  \n",
       "196  Catch up: Apple and Facebook profits doubled l...  \n",
       "197  Apple’s profit jumps to $34.6 billion in holid...  \n",
       "198  Target’s Profit Sinks as It Offloads Inventory...  \n",
       "199  Microsoft reports rising revenue and profits, ...  "
      ]
     },
     "execution_count": 11,
     "metadata": {},
     "output_type": "execute_result"
    }
   ],
   "source": [
    "df2.head(10)"
   ]
  },
  {
   "cell_type": "code",
   "execution_count": 12,
   "metadata": {},
   "outputs": [],
   "source": [
    "con = sqlite3.connect(db_path)\n",
    "cur = con.cursor()\n"
   ]
  },
  {
   "cell_type": "code",
   "execution_count": 36,
   "metadata": {},
   "outputs": [],
   "source": [
    "cur.execute(\"\"\"\n",
    "CREATE TABLE IF NOT EXISTS NYT_Artiles (\n",
    "    id INTEGER PRIMARY KEY,\n",
    "    pub_date TEXT,\n",
    "    full_text TEXT,\n",
    "    combined_text TEXT,\n",
    "    source REAL,\n",
    "    web_url TEXT\n",
    ")\n",
    "\"\"\")\n",
    "con.commit()"
   ]
  },
  {
   "cell_type": "code",
   "execution_count": 43,
   "metadata": {},
   "outputs": [
    {
     "name": "stdout",
     "output_type": "stream",
     "text": [
      "2024-07-15 14:25:20+00:00\n",
      "2021-01-26 11:00:22+00:00\n",
      "330\n"
     ]
    }
   ],
   "source": [
    "cur.execute('SELECT max(id), max(pub_date), min(pub_date) FROM NYT_Artiles')\n",
    "max_id, max_date, min_date = cur.fetchone()\n",
    "print(max_date)\n",
    "print(min_date)\n",
    "print(max_id)"
   ]
  },
  {
   "cell_type": "code",
   "execution_count": 65,
   "metadata": {},
   "outputs": [
    {
     "name": "stdout",
     "output_type": "stream",
     "text": [
      "What would you like to do today:\n",
      "add: Add data from specific timeframe (filters data range to a range not already in database)\n",
      "update: update the current data with data from todays date\n",
      "force: force adds data without checking if the data range is already in database\n"
     ]
    }
   ],
   "source": [
    "print(\"What would you like to do today:\")\n",
    "print(\"add: Add data from specific timeframe (filters data range to a range not already in database)\")\n",
    "print(\"update: update the current data with data from todays date\")\n",
    "print('force: force adds data without checking if the data range is already in database')\n",
    "decision = input(\"Type a response: \")"
   ]
  },
  {
   "cell_type": "code",
   "execution_count": null,
   "metadata": {},
   "outputs": [],
   "source": [
    "cur.execute('SELECT max(id), max(pub_date), min(pub_date) FROM NYT_Artiles')\n",
    "max_id, max_date, min_date = cur.fetchone()\n",
    "max_date = datetime.fromisoformat(max_date)\n",
    "min_date = datetime.fromisoformat(min_date)"
   ]
  },
  {
   "cell_type": "code",
   "execution_count": 88,
   "metadata": {},
   "outputs": [],
   "source": [
    "def convert_from_datetime(datetime_obj):\n",
    "    \"\"\"Convert Datetime object to format YYYY-MM-DD\"\"\"\n",
    "    if isinstance(datetime_obj, datetime):\n",
    "        month = datetime_obj.month if int(datetime_obj.month) > 10 else f\"0{datetime_obj.month}\"\n",
    "        day = datetime_obj.day if int(datetime_obj.day) > 10 else f\"0{datetime_obj.day}\"\n",
    "        return f\"{datetime_obj.year}-{month}-{day}\"\n",
    "    else:\n",
    "        raise ValueError(f\"Only type datetime accepted. type {type(datetime_obj)} supplied\")"
   ]
  },
  {
   "cell_type": "code",
   "execution_count": 89,
   "metadata": {},
   "outputs": [
    {
     "data": {
      "text/plain": [
       "'2021-01-26'"
      ]
     },
     "execution_count": 89,
     "metadata": {},
     "output_type": "execute_result"
    }
   ],
   "source": [
    "convert_from_datetime(min_date)"
   ]
  },
  {
   "cell_type": "code",
   "execution_count": 66,
   "metadata": {},
   "outputs": [
    {
     "name": "stdout",
     "output_type": "stream",
     "text": [
      "force selected\n"
     ]
    }
   ],
   "source": [
    "if decision.lower().strip() == \"add\":\n",
    "    print('add selected')\n",
    "elif decision.lower().strip() == 'update':\n",
    "    begin_date = max_date + timedelta(days=1) \n",
    "    end_date = datetime.today()\n",
    "    print('update selected')\n",
    "elif decision.lower().strip() == 'force':\n",
    "    print('force selected')\n",
    "else:\n",
    "    raise ValueError(\"add, update, or force must be selected\")"
   ]
  },
  {
   "cell_type": "code",
   "execution_count": 49,
   "metadata": {},
   "outputs": [
    {
     "data": {
      "text/plain": [
       "True"
      ]
     },
     "execution_count": 49,
     "metadata": {},
     "output_type": "execute_result"
    }
   ],
   "source": [
    "datetime.fromisoformat(max_date) > datetime.fromisoformat(min_date)"
   ]
  },
  {
   "cell_type": "code",
   "execution_count": 39,
   "metadata": {},
   "outputs": [
    {
     "data": {
      "text/plain": [
       "[('NYT_Artiles',), ('NYT_Articles',)]"
      ]
     },
     "execution_count": 39,
     "metadata": {},
     "output_type": "execute_result"
    }
   ],
   "source": [
    "cur.execute(\"SELECT name FROM sqlite_master\")\n",
    "cur.fetchall()"
   ]
  },
  {
   "cell_type": "code",
   "execution_count": 41,
   "metadata": {},
   "outputs": [
    {
     "data": {
      "text/plain": [
       "[(0, 'id', 'INTEGER', 0, None, 1),\n",
       " (1, 'pub_date', 'TEXT', 0, None, 0),\n",
       " (2, 'full_text', 'TEXT', 0, None, 0),\n",
       " (3, 'combined_text', 'TEXT', 0, None, 0),\n",
       " (4, 'source', 'REAL', 0, None, 0),\n",
       " (5, 'web_url', 'TEXT', 0, None, 0)]"
      ]
     },
     "execution_count": 41,
     "metadata": {},
     "output_type": "execute_result"
    }
   ],
   "source": [
    "cur.execute(\"PRAGMA table_info(NYT_Artiles);\")\n",
    "cur.fetchall()"
   ]
  },
  {
   "cell_type": "code",
   "execution_count": null,
   "metadata": {},
   "outputs": [],
   "source": []
  },
  {
   "cell_type": "code",
   "execution_count": 16,
   "metadata": {},
   "outputs": [
    {
     "data": {
      "text/plain": [
       "200"
      ]
     },
     "execution_count": 16,
     "metadata": {},
     "output_type": "execute_result"
    }
   ],
   "source": [
    "df1.to_sql(name='NYT_Artiles', con=con, if_exists='append')"
   ]
  },
  {
   "cell_type": "code",
   "execution_count": 18,
   "metadata": {},
   "outputs": [],
   "source": [
    "existing_data = pd.read_sql('SELECT full_text FROM NYT_Artiles', con=con)"
   ]
  },
  {
   "cell_type": "code",
   "execution_count": 24,
   "metadata": {},
   "outputs": [],
   "source": [
    "new_data = df2[~df2.full_text.isin(existing_data.full_text)]"
   ]
  },
  {
   "cell_type": "code",
   "execution_count": 28,
   "metadata": {},
   "outputs": [
    {
     "name": "stdout",
     "output_type": "stream",
     "text": [
      "2024-07-15 14:25:20+00:00\n",
      "199\n"
     ]
    }
   ],
   "source": [
    "cur.execute('SELECT max(id), max(pub_date) FROM NYT_Artiles')\n",
    "max_id, max_date = cur.fetchone()\n",
    "print(max_date)\n",
    "print(max_id)"
   ]
  },
  {
   "cell_type": "code",
   "execution_count": 29,
   "metadata": {},
   "outputs": [],
   "source": [
    "new_data.index = list(range(max_id+1, max_id+1 + len(new_data)))\n",
    "new_data.index.name = 'id'"
   ]
  },
  {
   "cell_type": "code",
   "execution_count": 31,
   "metadata": {},
   "outputs": [],
   "source": [
    "what = new_data.to_sql(name='NYT_Artiles', con=con, if_exists='append')"
   ]
  },
  {
   "cell_type": "code",
   "execution_count": 32,
   "metadata": {},
   "outputs": [
    {
     "data": {
      "text/plain": [
       "131"
      ]
     },
     "execution_count": 32,
     "metadata": {},
     "output_type": "execute_result"
    }
   ],
   "source": [
    "what"
   ]
  },
  {
   "cell_type": "code",
   "execution_count": 34,
   "metadata": {},
   "outputs": [
    {
     "data": {
      "text/plain": [
       "('2022-04-26 20:35:08+00:00',\n",
       " 'Microsoft reports rising revenue and profits, despite war and inflation. Its sales of $49.4 billion in the first quarter were up 18 percent from a year earlier. Despite inflation and uncertainty over the war in Ukraine, Microsoft on Tuesday reported financial results that showed little threat to the fundamentals of its business.')"
      ]
     },
     "execution_count": 34,
     "metadata": {},
     "output_type": "execute_result"
    }
   ],
   "source": [
    "cur.execute('SELECT pub_date,full_text FROM NYT_Artiles WHERE id==199')\n",
    "cur.fetchone()"
   ]
  },
  {
   "cell_type": "code",
   "execution_count": 35,
   "metadata": {},
   "outputs": [
    {
     "data": {
      "text/plain": [
       "('2024-07-15 14:25:20+00:00',\n",
       " 'Goldman Sachs’s Revamp Takes Shape With Another Profit Haul. The Wall Street investment bank earned $3 billion in the second quarter, more than double the tally from a year earlier. Goldman Sachs on Monday reported a hefty jump in its quarterly profits as the company continued its climb out of a self-inflicted morass.')"
      ]
     },
     "execution_count": 35,
     "metadata": {},
     "output_type": "execute_result"
    }
   ],
   "source": [
    "cur.execute('SELECT max(pub_date), full_text FROM NYT_Artiles')\n",
    "cur.fetchone()"
   ]
  },
  {
   "cell_type": "code",
   "execution_count": 67,
   "metadata": {},
   "outputs": [],
   "source": [
    "con.close()"
   ]
  }
 ],
 "metadata": {
  "kernelspec": {
   "display_name": "finance_sentiment_analysis-vciioODX",
   "language": "python",
   "name": "python3"
  },
  "language_info": {
   "codemirror_mode": {
    "name": "ipython",
    "version": 3
   },
   "file_extension": ".py",
   "mimetype": "text/x-python",
   "name": "python",
   "nbconvert_exporter": "python",
   "pygments_lexer": "ipython3",
   "version": "3.12.4"
  }
 },
 "nbformat": 4,
 "nbformat_minor": 2
}
