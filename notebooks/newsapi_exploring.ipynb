{
 "cells": [
  {
   "cell_type": "code",
   "execution_count": 1,
   "metadata": {},
   "outputs": [],
   "source": [
    "import requests\n",
    "from dotenv import load_dotenv\n",
    "import os"
   ]
  },
  {
   "cell_type": "code",
   "execution_count": 3,
   "metadata": {},
   "outputs": [
    {
     "data": {
      "text/plain": [
       "True"
      ]
     },
     "execution_count": 3,
     "metadata": {},
     "output_type": "execute_result"
    }
   ],
   "source": [
    "load_dotenv()"
   ]
  },
  {
   "cell_type": "code",
   "execution_count": 4,
   "metadata": {},
   "outputs": [],
   "source": [
    "key = os.getenv(\"NEWS_API_KEY\")"
   ]
  },
  {
   "cell_type": "code",
   "execution_count": 5,
   "metadata": {},
   "outputs": [],
   "source": [
    "\n",
    "url = \"https://newsapi.org/v2/everything\"\n",
    "payload = {\n",
    "    'q': \"+Apple\",\n",
    "    'from': '2024-07-01',\n",
    "    'sortBy': 'popularity',\n",
    "    'apikey': key\n",
    "}"
   ]
  },
  {
   "cell_type": "code",
   "execution_count": 6,
   "metadata": {},
   "outputs": [],
   "source": [
    "resp = requests.get(url, params = payload)"
   ]
  },
  {
   "cell_type": "code",
   "execution_count": 7,
   "metadata": {},
   "outputs": [
    {
     "data": {
      "text/plain": [
       "200"
      ]
     },
     "execution_count": 7,
     "metadata": {},
     "output_type": "execute_result"
    }
   ],
   "source": [
    "resp.status_code"
   ]
  },
  {
   "cell_type": "code",
   "execution_count": 8,
   "metadata": {},
   "outputs": [
    {
     "data": {
      "text/plain": [
       "6304"
      ]
     },
     "execution_count": 8,
     "metadata": {},
     "output_type": "execute_result"
    }
   ],
   "source": [
    "resp.json()['totalResults']"
   ]
  },
  {
   "cell_type": "code",
   "execution_count": 9,
   "metadata": {},
   "outputs": [
    {
     "data": {
      "text/plain": [
       "100"
      ]
     },
     "execution_count": 9,
     "metadata": {},
     "output_type": "execute_result"
    }
   ],
   "source": [
    "articles = resp.json()['articles']\n",
    "len(articles)"
   ]
  },
  {
   "cell_type": "code",
   "execution_count": 10,
   "metadata": {},
   "outputs": [],
   "source": [
    "articles = [art for art in articles if art['source']['name'] != '[Removed]']"
   ]
  },
  {
   "cell_type": "code",
   "execution_count": 11,
   "metadata": {},
   "outputs": [],
   "source": [
    "filt_articles = [art for art in articles if art['source']['name'] in ('Business Insider', 'The Verge', 'CNET')]\n"
   ]
  },
  {
   "cell_type": "code",
   "execution_count": 13,
   "metadata": {},
   "outputs": [
    {
     "data": {
      "text/plain": [
       "[{'source': {'id': 'the-verge', 'name': 'The Verge'},\n",
       "  'author': 'Emma Roth',\n",
       "  'title': 'Apple’s Phil Schiller is reportedly joining OpenAI’s board',\n",
       "  'description': 'Apple exec Phil Schiller is said to be joining OpenAI’s board in a non-voting observer position, according to a report from Bloomberg. ChatGPT is being integrated into iOS and macOS later this year.',\n",
       "  'url': 'https://www.theverge.com/2024/7/2/24191105/apple-phil-schiller-join-openai-board',\n",
       "  'urlToImage': 'https://cdn.vox-cdn.com/thumbor/EEBmDh6emjqUa-wKnQI-JyZ-7lQ=/0x0:2040x1360/1200x628/filters:focal(1020x680:1021x681)/cdn.vox-cdn.com/uploads/chorus_asset/file/23598986/VRG_Illo_5258_K_Radtke_WWDC.jpg',\n",
       "  'publishedAt': '2024-07-02T22:20:20Z',\n",
       "  'content': 'Illustration by Kristen Radtke / The Verge\\r\\n\\n \\n\\n Apple has chosen App Store chief and former marketing head Phil Schiller to represent the company on OpenAI’s nonprofit board, according to a report f… [+1057 chars]'},\n",
       " {'source': {'id': 'the-verge', 'name': 'The Verge'},\n",
       "  'author': 'Jennifer Pattison Tuohy',\n",
       "  'title': 'SmartThings adds\\xa0Matter\\xa0support for appliances and robot vacuums',\n",
       "  'description': 'The move will bring Matter-compatible robot vacuums, fridges, washing machines, air purifiers, and more to Samsung’s smart home platform.',\n",
       "  'url': 'https://www.theverge.com/2024/7/1/24189785/samsung-smartthings-matter-1-2-support-robot-vacuums',\n",
       "  'urlToImage': 'https://cdn.vox-cdn.com/thumbor/SCQERxZ4PE0wo8n-zUcmB4H4UWg=/0x0:1080x1080/1200x628/filters:focal(540x540:541x541)/cdn.vox-cdn.com/uploads/chorus_asset/file/25513308/R2_Image_2.jpg',\n",
       "  'publishedAt': '2024-07-01T14:30:05Z',\n",
       "  'content': 'SmartThings adds\\xa0Matter\\xa0support for appliances and robot vacuums\\r\\nSmartThings adds\\xa0Matter\\xa0support for appliances and robot vacuums\\r\\n / Samsung is taking the lead in Matter adoption by adding full Mat… [+7231 chars]'},\n",
       " {'source': {'id': 'the-verge', 'name': 'The Verge'},\n",
       "  'author': 'Antonio G. Di Benedetto',\n",
       "  'title': 'Netflix’s latest game is a mobile take on Minesweeper',\n",
       "  'description': 'The latest Netflix game to come to the streaming giant’s service is a classic that’s best known as being a time-waster on Windows.',\n",
       "  'url': 'https://www.theverge.com/2024/7/2/24190961/netflix-games-minesweeper-subscribers-launch-trailer',\n",
       "  'urlToImage': 'https://cdn.vox-cdn.com/thumbor/S0hvlUykChWMGG8GB0nVZy54Ucc=/0x0:2048x2732/1200x628/filters:focal(1024x1366:1025x1367)/cdn.vox-cdn.com/uploads/chorus_asset/file/25515570/minesweeper_netflix_screenshot.jpg',\n",
       "  'publishedAt': '2024-07-02T19:43:44Z',\n",
       "  'content': 'Netflixs latest game is a mobile take on Minesweeper\\r\\nNetflixs latest game is a mobile take on Minesweeper\\r\\n / Straight outta Windows 3.11 and into your Netflix subscription, with much better graphic… [+1692 chars]'},\n",
       " {'source': {'id': 'the-verge', 'name': 'The Verge'},\n",
       "  'author': 'Quentyn Kennemer',\n",
       "  'title': 'Mark Zuckerberg experiments with six-window Quest VR multitasking',\n",
       "  'description': 'Meta’s version 67 of Horizon OS for Quest headsets supports more virtual windows that you can put in more places and new creator videos in the Horizon Feed.',\n",
       "  'url': 'https://www.theverge.com/2024/7/3/24191722/meta-quest-horizon-os-67-multitasking-update',\n",
       "  'urlToImage': 'https://cdn.vox-cdn.com/thumbor/aY8-8ZSzCvmFkz-0RCbdB0O6VT0=/0x149:1920x930/1200x628/filters:focal(960x540:961x541)/cdn.vox-cdn.com/uploads/chorus_asset/file/25517132/meta_quest_v67_windows.jpg',\n",
       "  'publishedAt': '2024-07-03T20:16:36Z',\n",
       "  'content': 'Mark Zuckerberg experiments with six-window Quest VR multitasking\\r\\nMark Zuckerberg experiments with six-window Quest VR multitasking\\r\\n / The new Horizon OS version 67 update for Metas Quest headsets … [+2094 chars]'}]"
      ]
     },
     "execution_count": 13,
     "metadata": {},
     "output_type": "execute_result"
    }
   ],
   "source": [
    "filt_articles[0:4]"
   ]
  }
 ],
 "metadata": {
  "kernelspec": {
   "display_name": "Python 3",
   "language": "python",
   "name": "python3"
  },
  "language_info": {
   "codemirror_mode": {
    "name": "ipython",
    "version": 3
   },
   "file_extension": ".py",
   "mimetype": "text/x-python",
   "name": "python",
   "nbconvert_exporter": "python",
   "pygments_lexer": "ipython3",
   "version": "3.12.4"
  }
 },
 "nbformat": 4,
 "nbformat_minor": 2
}
