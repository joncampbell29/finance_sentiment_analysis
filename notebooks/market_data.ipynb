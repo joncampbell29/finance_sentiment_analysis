{
 "cells": [
  {
   "cell_type": "code",
   "execution_count": 1,
   "metadata": {},
   "outputs": [],
   "source": [
    "import os\n",
    "import sys\n",
    "sys.path.insert(0, os.path.dirname(os.getcwd()))"
   ]
  },
  {
   "cell_type": "code",
   "execution_count": 2,
   "metadata": {},
   "outputs": [],
   "source": [
    "import pandas as pd\n",
    "import sqlite3"
   ]
  },
  {
   "cell_type": "code",
   "execution_count": 3,
   "metadata": {},
   "outputs": [],
   "source": [
    "db_path = os.path.join(os.path.dirname(os.getcwd()), 'data/financials.db')\n",
    "con = sqlite3.connect(db_path)"
   ]
  },
  {
   "cell_type": "code",
   "execution_count": 19,
   "metadata": {},
   "outputs": [],
   "source": [
    "mkt_data = pd.read_sql(\"SELECT * FROM market_articles\", con=con, index_col=\"id\")\n",
    "stock_data = pd.read_sql(\"SELECT * FROM stock_articles\", con=con, index_col=\"id\")"
   ]
  },
  {
   "cell_type": "code",
   "execution_count": 20,
   "metadata": {},
   "outputs": [],
   "source": [
    "stock_data[[\"stock\",'article_type']] = stock_data['combined_text'].str.extract(r\"Article\\sArguments:(.*). Article Type:(.*)\", \n",
    "                                                                               expand=True)\n"
   ]
  },
  {
   "cell_type": "code",
   "execution_count": 21,
   "metadata": {},
   "outputs": [],
   "source": [
    "mkt_data[[\"mkt_keys\",'article_type']] = mkt_data['combined_text'].str.extract(r\"Article\\sArguments:(.*). Article Type:(.*)\", \n",
    "                                                                               expand=True)"
   ]
  },
  {
   "cell_type": "code",
   "execution_count": 22,
   "metadata": {},
   "outputs": [
    {
     "data": {
      "text/html": [
       "<div>\n",
       "<style scoped>\n",
       "    .dataframe tbody tr th:only-of-type {\n",
       "        vertical-align: middle;\n",
       "    }\n",
       "\n",
       "    .dataframe tbody tr th {\n",
       "        vertical-align: top;\n",
       "    }\n",
       "\n",
       "    .dataframe thead th {\n",
       "        text-align: right;\n",
       "    }\n",
       "</style>\n",
       "<table border=\"1\" class=\"dataframe\">\n",
       "  <thead>\n",
       "    <tr style=\"text-align: right;\">\n",
       "      <th></th>\n",
       "      <th>web_url</th>\n",
       "      <th>source</th>\n",
       "      <th>pub_date</th>\n",
       "      <th>api</th>\n",
       "      <th>full_text</th>\n",
       "      <th>combined_text</th>\n",
       "      <th>stock</th>\n",
       "      <th>article_type</th>\n",
       "    </tr>\n",
       "    <tr>\n",
       "      <th>id</th>\n",
       "      <th></th>\n",
       "      <th></th>\n",
       "      <th></th>\n",
       "      <th></th>\n",
       "      <th></th>\n",
       "      <th></th>\n",
       "      <th></th>\n",
       "      <th></th>\n",
       "    </tr>\n",
       "  </thead>\n",
       "  <tbody>\n",
       "    <tr>\n",
       "      <th>0</th>\n",
       "      <td>https://www.nytimes.com/2021/08/19/opinion/app...</td>\n",
       "      <td>The New York Times</td>\n",
       "      <td>2021-08-19 09:00:15+00:00</td>\n",
       "      <td>NYT</td>\n",
       "      <td>Apple’s Illusion of Privacy Is Getting Harder ...</td>\n",
       "      <td>Apple’s Illusion of Privacy Is Getting Harder ...</td>\n",
       "      <td>Apple, AAPL</td>\n",
       "      <td>stock article.</td>\n",
       "    </tr>\n",
       "    <tr>\n",
       "      <th>1</th>\n",
       "      <td>https://www.nytimes.com/2022/01/03/briefing/om...</td>\n",
       "      <td>The New York Times</td>\n",
       "      <td>2022-01-03 22:40:32+00:00</td>\n",
       "      <td>NYT</td>\n",
       "      <td>Omicron, Apple, Jan. 6: Your Monday Evening Br...</td>\n",
       "      <td>Omicron, Apple, Jan. 6: Your Monday Evening Br...</td>\n",
       "      <td>Apple, AAPL</td>\n",
       "      <td>stock article.</td>\n",
       "    </tr>\n",
       "    <tr>\n",
       "      <th>2</th>\n",
       "      <td>https://www.nytimes.com/2021/05/21/technology/...</td>\n",
       "      <td>The New York Times</td>\n",
       "      <td>2021-05-21 17:36:35+00:00</td>\n",
       "      <td>NYT</td>\n",
       "      <td>In Antitrust Trial, Tim Cook Argues Apple Does...</td>\n",
       "      <td>In Antitrust Trial, Tim Cook Argues Apple Does...</td>\n",
       "      <td>Apple, AAPL</td>\n",
       "      <td>stock article.</td>\n",
       "    </tr>\n",
       "    <tr>\n",
       "      <th>3</th>\n",
       "      <td>https://www.nytimes.com/2021/09/03/business/ap...</td>\n",
       "      <td>The New York Times</td>\n",
       "      <td>2021-09-03 14:01:46+00:00</td>\n",
       "      <td>NYT</td>\n",
       "      <td>Apple delays the rollout of child-safety featu...</td>\n",
       "      <td>Apple delays the rollout of child-safety featu...</td>\n",
       "      <td>Apple, AAPL</td>\n",
       "      <td>stock article.</td>\n",
       "    </tr>\n",
       "    <tr>\n",
       "      <th>4</th>\n",
       "      <td>https://www.nytimes.com/2023/09/07/business/ip...</td>\n",
       "      <td>The New York Times</td>\n",
       "      <td>2023-09-07 11:49:06+00:00</td>\n",
       "      <td>NYT</td>\n",
       "      <td>Apple’s Market Value Falls By Billions On Worr...</td>\n",
       "      <td>Apple’s Market Value Falls By Billions On Worr...</td>\n",
       "      <td>Apple, AAPL</td>\n",
       "      <td>stock article.</td>\n",
       "    </tr>\n",
       "  </tbody>\n",
       "</table>\n",
       "</div>"
      ],
      "text/plain": [
       "                                              web_url              source  \\\n",
       "id                                                                          \n",
       "0   https://www.nytimes.com/2021/08/19/opinion/app...  The New York Times   \n",
       "1   https://www.nytimes.com/2022/01/03/briefing/om...  The New York Times   \n",
       "2   https://www.nytimes.com/2021/05/21/technology/...  The New York Times   \n",
       "3   https://www.nytimes.com/2021/09/03/business/ap...  The New York Times   \n",
       "4   https://www.nytimes.com/2023/09/07/business/ip...  The New York Times   \n",
       "\n",
       "                     pub_date  api  \\\n",
       "id                                   \n",
       "0   2021-08-19 09:00:15+00:00  NYT   \n",
       "1   2022-01-03 22:40:32+00:00  NYT   \n",
       "2   2021-05-21 17:36:35+00:00  NYT   \n",
       "3   2021-09-03 14:01:46+00:00  NYT   \n",
       "4   2023-09-07 11:49:06+00:00  NYT   \n",
       "\n",
       "                                            full_text  \\\n",
       "id                                                      \n",
       "0   Apple’s Illusion of Privacy Is Getting Harder ...   \n",
       "1   Omicron, Apple, Jan. 6: Your Monday Evening Br...   \n",
       "2   In Antitrust Trial, Tim Cook Argues Apple Does...   \n",
       "3   Apple delays the rollout of child-safety featu...   \n",
       "4   Apple’s Market Value Falls By Billions On Worr...   \n",
       "\n",
       "                                        combined_text         stock  \\\n",
       "id                                                                    \n",
       "0   Apple’s Illusion of Privacy Is Getting Harder ...   Apple, AAPL   \n",
       "1   Omicron, Apple, Jan. 6: Your Monday Evening Br...   Apple, AAPL   \n",
       "2   In Antitrust Trial, Tim Cook Argues Apple Does...   Apple, AAPL   \n",
       "3   Apple delays the rollout of child-safety featu...   Apple, AAPL   \n",
       "4   Apple’s Market Value Falls By Billions On Worr...   Apple, AAPL   \n",
       "\n",
       "       article_type  \n",
       "id                   \n",
       "0    stock article.  \n",
       "1    stock article.  \n",
       "2    stock article.  \n",
       "3    stock article.  \n",
       "4    stock article.  "
      ]
     },
     "execution_count": 22,
     "metadata": {},
     "output_type": "execute_result"
    }
   ],
   "source": [
    "stock_data.head()"
   ]
  },
  {
   "cell_type": "code",
   "execution_count": 23,
   "metadata": {},
   "outputs": [
    {
     "data": {
      "text/html": [
       "<div>\n",
       "<style scoped>\n",
       "    .dataframe tbody tr th:only-of-type {\n",
       "        vertical-align: middle;\n",
       "    }\n",
       "\n",
       "    .dataframe tbody tr th {\n",
       "        vertical-align: top;\n",
       "    }\n",
       "\n",
       "    .dataframe thead th {\n",
       "        text-align: right;\n",
       "    }\n",
       "</style>\n",
       "<table border=\"1\" class=\"dataframe\">\n",
       "  <thead>\n",
       "    <tr style=\"text-align: right;\">\n",
       "      <th></th>\n",
       "      <th>web_url</th>\n",
       "      <th>source</th>\n",
       "      <th>pub_date</th>\n",
       "      <th>api</th>\n",
       "      <th>full_text</th>\n",
       "      <th>combined_text</th>\n",
       "      <th>mkt_keys</th>\n",
       "      <th>article_type</th>\n",
       "    </tr>\n",
       "    <tr>\n",
       "      <th>id</th>\n",
       "      <th></th>\n",
       "      <th></th>\n",
       "      <th></th>\n",
       "      <th></th>\n",
       "      <th></th>\n",
       "      <th></th>\n",
       "      <th></th>\n",
       "      <th></th>\n",
       "    </tr>\n",
       "  </thead>\n",
       "  <tbody>\n",
       "    <tr>\n",
       "      <th>0</th>\n",
       "      <td>https://www.nytimes.com/2021/10/14/technology/...</td>\n",
       "      <td>The New York Times</td>\n",
       "      <td>2021-10-14 16:41:14+00:00</td>\n",
       "      <td>NYT</td>\n",
       "      <td>‘Disability Drives Innovation’. Audiobooks are...</td>\n",
       "      <td>‘Disability Drives Innovation’. Audiobooks are...</td>\n",
       "      <td>corporate governance, cybersecurity, innovation</td>\n",
       "      <td>general market article.</td>\n",
       "    </tr>\n",
       "    <tr>\n",
       "      <th>1</th>\n",
       "      <td>https://www.nytimes.com/2023/11/14/technology/...</td>\n",
       "      <td>The New York Times</td>\n",
       "      <td>2023-11-14 10:03:25+00:00</td>\n",
       "      <td>NYT</td>\n",
       "      <td>What Google Argued to Defend Itself in Landmar...</td>\n",
       "      <td>What Google Argued to Defend Itself in Landmar...</td>\n",
       "      <td>corporate governance, cybersecurity, innovation</td>\n",
       "      <td>general market article.</td>\n",
       "    </tr>\n",
       "    <tr>\n",
       "      <th>2</th>\n",
       "      <td>https://www.nytimes.com/2024/02/28/business/de...</td>\n",
       "      <td>The New York Times</td>\n",
       "      <td>2024-02-28 13:06:19+00:00</td>\n",
       "      <td>NYT</td>\n",
       "      <td>How Apple Used its Car Project to Drive Wider ...</td>\n",
       "      <td>How Apple Used its Car Project to Drive Wider ...</td>\n",
       "      <td>corporate governance, cybersecurity, innovation</td>\n",
       "      <td>general market article.</td>\n",
       "    </tr>\n",
       "    <tr>\n",
       "      <th>3</th>\n",
       "      <td>https://www.nytimes.com/2021/12/21/technology/...</td>\n",
       "      <td>The New York Times</td>\n",
       "      <td>2021-12-21 17:42:46+00:00</td>\n",
       "      <td>NYT</td>\n",
       "      <td>The Tech I Want in 2022. Next year we need mor...</td>\n",
       "      <td>The Tech I Want in 2022. Next year we need mor...</td>\n",
       "      <td>corporate governance, cybersecurity, innovation</td>\n",
       "      <td>general market article.</td>\n",
       "    </tr>\n",
       "    <tr>\n",
       "      <th>4</th>\n",
       "      <td>https://www.nytimes.com/2021/08/03/technology/...</td>\n",
       "      <td>The New York Times</td>\n",
       "      <td>2021-08-03 16:24:12+00:00</td>\n",
       "      <td>NYT</td>\n",
       "      <td>Innovation Invites Hucksters. Unscrupulous, bo...</td>\n",
       "      <td>Innovation Invites Hucksters. Unscrupulous, bo...</td>\n",
       "      <td>corporate governance, cybersecurity, innovation</td>\n",
       "      <td>general market article.</td>\n",
       "    </tr>\n",
       "  </tbody>\n",
       "</table>\n",
       "</div>"
      ],
      "text/plain": [
       "                                              web_url              source  \\\n",
       "id                                                                          \n",
       "0   https://www.nytimes.com/2021/10/14/technology/...  The New York Times   \n",
       "1   https://www.nytimes.com/2023/11/14/technology/...  The New York Times   \n",
       "2   https://www.nytimes.com/2024/02/28/business/de...  The New York Times   \n",
       "3   https://www.nytimes.com/2021/12/21/technology/...  The New York Times   \n",
       "4   https://www.nytimes.com/2021/08/03/technology/...  The New York Times   \n",
       "\n",
       "                     pub_date  api  \\\n",
       "id                                   \n",
       "0   2021-10-14 16:41:14+00:00  NYT   \n",
       "1   2023-11-14 10:03:25+00:00  NYT   \n",
       "2   2024-02-28 13:06:19+00:00  NYT   \n",
       "3   2021-12-21 17:42:46+00:00  NYT   \n",
       "4   2021-08-03 16:24:12+00:00  NYT   \n",
       "\n",
       "                                            full_text  \\\n",
       "id                                                      \n",
       "0   ‘Disability Drives Innovation’. Audiobooks are...   \n",
       "1   What Google Argued to Defend Itself in Landmar...   \n",
       "2   How Apple Used its Car Project to Drive Wider ...   \n",
       "3   The Tech I Want in 2022. Next year we need mor...   \n",
       "4   Innovation Invites Hucksters. Unscrupulous, bo...   \n",
       "\n",
       "                                        combined_text  \\\n",
       "id                                                      \n",
       "0   ‘Disability Drives Innovation’. Audiobooks are...   \n",
       "1   What Google Argued to Defend Itself in Landmar...   \n",
       "2   How Apple Used its Car Project to Drive Wider ...   \n",
       "3   The Tech I Want in 2022. Next year we need mor...   \n",
       "4   Innovation Invites Hucksters. Unscrupulous, bo...   \n",
       "\n",
       "                                            mkt_keys              article_type  \n",
       "id                                                                              \n",
       "0    corporate governance, cybersecurity, innovation   general market article.  \n",
       "1    corporate governance, cybersecurity, innovation   general market article.  \n",
       "2    corporate governance, cybersecurity, innovation   general market article.  \n",
       "3    corporate governance, cybersecurity, innovation   general market article.  \n",
       "4    corporate governance, cybersecurity, innovation   general market article.  "
      ]
     },
     "execution_count": 23,
     "metadata": {},
     "output_type": "execute_result"
    }
   ],
   "source": [
    "mkt_data.head()"
   ]
  },
  {
   "cell_type": "code",
   "execution_count": 28,
   "metadata": {},
   "outputs": [],
   "source": [
    "stock_data['pub_date'] = pd.to_datetime(stock_data['pub_date'])"
   ]
  },
  {
   "cell_type": "code",
   "execution_count": 31,
   "metadata": {},
   "outputs": [
    {
     "name": "stderr",
     "output_type": "stream",
     "text": [
      "C:\\Users\\campb\\AppData\\Local\\Temp\\ipykernel_26424\\2395554988.py:1: UserWarning: Converting to PeriodArray/Index representation will drop timezone information.\n",
      "  stock_data['general_period'] = stock_data['pub_date'].dt.to_period(\"M\")\n"
     ]
    }
   ],
   "source": [
    "stock_data['general_period'] = stock_data['pub_date'].dt.to_period(\"M\")"
   ]
  },
  {
   "cell_type": "code",
   "execution_count": 38,
   "metadata": {},
   "outputs": [
    {
     "name": "stdout",
     "output_type": "stream",
     "text": [
      "2021-01-01 15:00:05+00:00\n",
      "2024-07-29 21:37:38+00:00\n"
     ]
    }
   ],
   "source": [
    "print(stock_data['pub_date'].min())\n",
    "print(stock_data['pub_date'].max())"
   ]
  },
  {
   "cell_type": "code",
   "execution_count": 49,
   "metadata": {},
   "outputs": [],
   "source": [
    "count_table = stock_data.groupby(['stock','general_period'])['combined_text'].count().reset_index()"
   ]
  },
  {
   "cell_type": "code",
   "execution_count": 54,
   "metadata": {},
   "outputs": [
    {
     "data": {
      "text/html": [
       "<div>\n",
       "<style scoped>\n",
       "    .dataframe tbody tr th:only-of-type {\n",
       "        vertical-align: middle;\n",
       "    }\n",
       "\n",
       "    .dataframe tbody tr th {\n",
       "        vertical-align: top;\n",
       "    }\n",
       "\n",
       "    .dataframe thead th {\n",
       "        text-align: right;\n",
       "    }\n",
       "</style>\n",
       "<table border=\"1\" class=\"dataframe\">\n",
       "  <thead>\n",
       "    <tr style=\"text-align: right;\">\n",
       "      <th></th>\n",
       "      <th>stock</th>\n",
       "      <th>general_period</th>\n",
       "      <th>combined_text</th>\n",
       "    </tr>\n",
       "  </thead>\n",
       "  <tbody>\n",
       "    <tr>\n",
       "      <th>0</th>\n",
       "      <td>3M Company, MMM</td>\n",
       "      <td>2021-02</td>\n",
       "      <td>1</td>\n",
       "    </tr>\n",
       "    <tr>\n",
       "      <th>1</th>\n",
       "      <td>3M Company, MMM</td>\n",
       "      <td>2021-03</td>\n",
       "      <td>2</td>\n",
       "    </tr>\n",
       "    <tr>\n",
       "      <th>2</th>\n",
       "      <td>3M Company, MMM</td>\n",
       "      <td>2021-04</td>\n",
       "      <td>1</td>\n",
       "    </tr>\n",
       "    <tr>\n",
       "      <th>3</th>\n",
       "      <td>3M Company, MMM</td>\n",
       "      <td>2021-05</td>\n",
       "      <td>1</td>\n",
       "    </tr>\n",
       "    <tr>\n",
       "      <th>4</th>\n",
       "      <td>3M Company, MMM</td>\n",
       "      <td>2021-06</td>\n",
       "      <td>2</td>\n",
       "    </tr>\n",
       "  </tbody>\n",
       "</table>\n",
       "</div>"
      ],
      "text/plain": [
       "              stock general_period  combined_text\n",
       "0   3M Company, MMM        2021-02              1\n",
       "1   3M Company, MMM        2021-03              2\n",
       "2   3M Company, MMM        2021-04              1\n",
       "3   3M Company, MMM        2021-05              1\n",
       "4   3M Company, MMM        2021-06              2"
      ]
     },
     "execution_count": 54,
     "metadata": {},
     "output_type": "execute_result"
    }
   ],
   "source": [
    "count_table[count_table.stock.str.contains(\"MM\")].head()"
   ]
  },
  {
   "cell_type": "code",
   "execution_count": null,
   "metadata": {},
   "outputs": [],
   "source": []
  }
 ],
 "metadata": {
  "kernelspec": {
   "display_name": "finance_sentiment_analysis-vciioODX",
   "language": "python",
   "name": "python3"
  },
  "language_info": {
   "codemirror_mode": {
    "name": "ipython",
    "version": 3
   },
   "file_extension": ".py",
   "mimetype": "text/x-python",
   "name": "python",
   "nbconvert_exporter": "python",
   "pygments_lexer": "ipython3",
   "version": "3.12.4"
  }
 },
 "nbformat": 4,
 "nbformat_minor": 2
}
