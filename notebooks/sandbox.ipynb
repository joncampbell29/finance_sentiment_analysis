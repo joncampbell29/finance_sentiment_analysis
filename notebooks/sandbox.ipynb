{
 "cells": [
  {
   "cell_type": "code",
   "execution_count": 13,
   "metadata": {},
   "outputs": [],
   "source": [
    "import sys\n",
    "import os\n",
    "import logging\n",
    "import pandas as pd\n",
    "\n",
    "src_dir = os.path.dirname(os.getcwd()) + \"\\\\src\"\n",
    "sys.path.insert(0, src_dir)\n",
    "from utils.helper_functions import (\n",
    "    get_project_root, STOCK_SET, MARKET_KEYWORD_SET\n",
    ")"
   ]
  }
 ],
 "metadata": {
  "kernelspec": {
   "display_name": "finance_sentiment_analysis-vciioODX",
   "language": "python",
   "name": "python3"
  },
  "language_info": {
   "codemirror_mode": {
    "name": "ipython",
    "version": 3
   },
   "file_extension": ".py",
   "mimetype": "text/x-python",
   "name": "python",
   "nbconvert_exporter": "python",
   "pygments_lexer": "ipython3",
   "version": "3.12.4"
  }
 },
 "nbformat": 4,
 "nbformat_minor": 2
}
