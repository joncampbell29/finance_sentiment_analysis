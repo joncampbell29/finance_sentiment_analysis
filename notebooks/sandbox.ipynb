{
 "cells": [
  {
   "cell_type": "code",
   "execution_count": 1,
   "metadata": {},
   "outputs": [],
   "source": [
    "import os\n",
    "import sys\n",
    "sys.path.insert(0, os.path.dirname(os.getcwd()))"
   ]
  },
  {
   "cell_type": "code",
   "execution_count": 2,
   "metadata": {},
   "outputs": [],
   "source": [
    "import pandas as pd\n",
    "from utils.constants import MARKET_KEYWORD_SET, Fl_PARAM\n",
    "from utils.api_helpers import (\n",
    "    get_project_root, gen_mkt_filter, \n",
    "    gen_stock_filter,make_api_call, get_project_root\n",
    ")\n",
    "key = os.getenv(\"NYT_API_KEY\")"
   ]
  },
  {
   "cell_type": "code",
   "execution_count": 5,
   "metadata": {},
   "outputs": [],
   "source": [
    "data_path = get_project_root().joinpath(\"data/mkt_hits.csv\")\n",
    "df = pd.read_csv(data_path, index_col=0)"
   ]
  },
  {
   "cell_type": "code",
   "execution_count": 17,
   "metadata": {},
   "outputs": [
    {
     "data": {
      "text/html": [
       "<div>\n",
       "<style scoped>\n",
       "    .dataframe tbody tr th:only-of-type {\n",
       "        vertical-align: middle;\n",
       "    }\n",
       "\n",
       "    .dataframe tbody tr th {\n",
       "        vertical-align: top;\n",
       "    }\n",
       "\n",
       "    .dataframe thead th {\n",
       "        text-align: right;\n",
       "    }\n",
       "</style>\n",
       "<table border=\"1\" class=\"dataframe\">\n",
       "  <thead>\n",
       "    <tr style=\"text-align: right;\">\n",
       "      <th></th>\n",
       "      <th>mkt_keywods</th>\n",
       "      <th>hits</th>\n",
       "      <th>status</th>\n",
       "    </tr>\n",
       "  </thead>\n",
       "  <tbody>\n",
       "    <tr>\n",
       "      <th>0</th>\n",
       "      <td>('earnings', 'revenue', 'profits', 'growth', '...</td>\n",
       "      <td>0</td>\n",
       "      <td>200</td>\n",
       "    </tr>\n",
       "    <tr>\n",
       "      <th>1</th>\n",
       "      <td>('economic outlook', 'GDP', 'inflation', 'inte...</td>\n",
       "      <td>0</td>\n",
       "      <td>200</td>\n",
       "    </tr>\n",
       "    <tr>\n",
       "      <th>2</th>\n",
       "      <td>('fiscal policy', 'unemployment', 'labor marke...</td>\n",
       "      <td>0</td>\n",
       "      <td>200</td>\n",
       "    </tr>\n",
       "    <tr>\n",
       "      <th>3</th>\n",
       "      <td>('healthcare sector', 'energy sector', 'financ...</td>\n",
       "      <td>1</td>\n",
       "      <td>200</td>\n",
       "    </tr>\n",
       "    <tr>\n",
       "      <th>4</th>\n",
       "      <td>('retail sales', 'global trade', 'supply chain...</td>\n",
       "      <td>3</td>\n",
       "      <td>200</td>\n",
       "    </tr>\n",
       "    <tr>\n",
       "      <th>5</th>\n",
       "      <td>('dividends', 'market volatility', 'investor s...</td>\n",
       "      <td>0</td>\n",
       "      <td>200</td>\n",
       "    </tr>\n",
       "    <tr>\n",
       "      <th>6</th>\n",
       "      <td>('regulatory changes', 'geopolitical', 'climat...</td>\n",
       "      <td>16</td>\n",
       "      <td>200</td>\n",
       "    </tr>\n",
       "    <tr>\n",
       "      <th>7</th>\n",
       "      <td>('corporate governance', 'cybersecurity', 'inn...</td>\n",
       "      <td>0</td>\n",
       "      <td>200</td>\n",
       "    </tr>\n",
       "  </tbody>\n",
       "</table>\n",
       "</div>"
      ],
      "text/plain": [
       "                                         mkt_keywods  hits  status\n",
       "0  ('earnings', 'revenue', 'profits', 'growth', '...     0     200\n",
       "1  ('economic outlook', 'GDP', 'inflation', 'inte...     0     200\n",
       "2  ('fiscal policy', 'unemployment', 'labor marke...     0     200\n",
       "3  ('healthcare sector', 'energy sector', 'financ...     1     200\n",
       "4  ('retail sales', 'global trade', 'supply chain...     3     200\n",
       "5  ('dividends', 'market volatility', 'investor s...     0     200\n",
       "6  ('regulatory changes', 'geopolitical', 'climat...    16     200\n",
       "7  ('corporate governance', 'cybersecurity', 'inn...     0     200"
      ]
     },
     "execution_count": 17,
     "metadata": {},
     "output_type": "execute_result"
    }
   ],
   "source": [
    "df"
   ]
  },
  {
   "cell_type": "code",
   "execution_count": 38,
   "metadata": {},
   "outputs": [],
   "source": [
    "def try_new_keywords(mkt_keyword):\n",
    "    filt = gen_mkt_filter(*mkt_keyword)\n",
    "    payload = {\n",
    "        'begin_date': \"2021-01-01\",\n",
    "        'fl': Fl_PARAM\n",
    "    }\n",
    "    res = make_api_call(payload,key,filt, time_delay=False)\n",
    "    return res['num_hits']"
   ]
  },
  {
   "cell_type": "code",
   "execution_count": 29,
   "metadata": {},
   "outputs": [
    {
     "data": {
      "text/plain": [
       "('earnings', 'revenue', 'profits')"
      ]
     },
     "execution_count": 29,
     "metadata": {},
     "output_type": "execute_result"
    }
   ],
   "source": [
    "try1 = MARKET_KEYWORD_SET[0][:3]\n",
    "try1"
   ]
  },
  {
   "cell_type": "code",
   "execution_count": 32,
   "metadata": {},
   "outputs": [
    {
     "data": {
      "text/plain": [
       "224"
      ]
     },
     "execution_count": 32,
     "metadata": {},
     "output_type": "execute_result"
    }
   ],
   "source": [
    "try_new_keywords(try1)\n"
   ]
  },
  {
   "cell_type": "code",
   "execution_count": 35,
   "metadata": {},
   "outputs": [
    {
     "name": "stdout",
     "output_type": "stream",
     "text": [
      "(('earnings', 'revenue', 'profits', 'growth', 'sales', 'market share', 'financial results'), ('economic outlook', 'GDP', 'inflation', 'interest rates', 'Federal Reserve', 'monetary policy'), ('fiscal policy', 'unemployment', 'labor market', 'consumer spending', 'technology sector'), ('healthcare sector', 'energy sector', 'financial sector', 'industrial sector', 'consumer goods'), ('retail sales', 'global trade', 'supply chain', 'corporate earnings', 'stock buybacks'), ('dividends', 'market volatility', 'investor sentiment', 'mergers and acquisitions'), ('regulatory changes', 'geopolitical', 'climate change', 'sustainability'), ('corporate governance', 'cybersecurity', 'innovation', 'market competition'))\n"
     ]
    }
   ],
   "source": [
    "print(MARKET_KEYWORD_SET)"
   ]
  },
  {
   "cell_type": "code",
   "execution_count": 46,
   "metadata": {},
   "outputs": [
    {
     "data": {
      "text/plain": [
       "('federal reserve', 'monetary policy')"
      ]
     },
     "execution_count": 46,
     "metadata": {},
     "output_type": "execute_result"
    }
   ],
   "source": [
    "try2 = tuple([i.lower() for i in MARKET_KEYWORD_SET[1][4:]])\n",
    "try2"
   ]
  },
  {
   "cell_type": "code",
   "execution_count": 49,
   "metadata": {},
   "outputs": [
    {
     "data": {
      "text/plain": [
       "'(headline:(\"monetary policy\") AND body:(\"monetary policy\")) AND news_desk:(\"Business\", \"Financial\")'"
      ]
     },
     "execution_count": 49,
     "metadata": {},
     "output_type": "execute_result"
    }
   ],
   "source": [
    "gen_mkt_filter(try2[-1])"
   ]
  },
  {
   "cell_type": "code",
   "execution_count": 50,
   "metadata": {},
   "outputs": [
    {
     "data": {
      "text/plain": [
       "1"
      ]
     },
     "execution_count": 50,
     "metadata": {},
     "output_type": "execute_result"
    }
   ],
   "source": [
    "try_new_keywords(try2[-1])"
   ]
  },
  {
   "cell_type": "markdown",
   "metadata": {},
   "source": [
    "2nd set needs to be removed"
   ]
  },
  {
   "cell_type": "code",
   "execution_count": 53,
   "metadata": {},
   "outputs": [
    {
     "data": {
      "text/plain": [
       "('fiscal policy',\n",
       " 'unemployment',\n",
       " 'labor market',\n",
       " 'consumer spending',\n",
       " 'technology sector')"
      ]
     },
     "execution_count": 53,
     "metadata": {},
     "output_type": "execute_result"
    }
   ],
   "source": [
    "MARKET_KEYWORD_SET[2]"
   ]
  },
  {
   "cell_type": "code",
   "execution_count": 54,
   "metadata": {},
   "outputs": [],
   "source": [
    "try3 = (\"unemployment\", \"labor market\")"
   ]
  },
  {
   "cell_type": "code",
   "execution_count": 55,
   "metadata": {},
   "outputs": [
    {
     "data": {
      "text/plain": [
       "24"
      ]
     },
     "execution_count": 55,
     "metadata": {},
     "output_type": "execute_result"
    }
   ],
   "source": [
    "try_new_keywords(try3)"
   ]
  },
  {
   "cell_type": "code",
   "execution_count": 58,
   "metadata": {},
   "outputs": [
    {
     "data": {
      "text/plain": [
       "'(headline:(\"healthcare sector\") AND body:(\"healthcare sector\")) OR (headline:(\"energy sector\") AND body:(\"energy sector\")) OR (headline:(\"financial sector\") AND body:(\"financial sector\")) OR (headline:(\"industrial sector\") AND body:(\"industrial sector\")) OR (headline:(\"consumer goods\") AND body:(\"consumer goods\")) AND news_desk:(\"Business\", \"Financial\")'"
      ]
     },
     "execution_count": 58,
     "metadata": {},
     "output_type": "execute_result"
    }
   ],
   "source": [
    "gen_mkt_filter(*MARKET_KEYWORD_SET[3])"
   ]
  },
  {
   "cell_type": "code",
   "execution_count": 61,
   "metadata": {},
   "outputs": [
    {
     "data": {
      "text/plain": [
       "('retail sales', 'global trade', 'supply chain')"
      ]
     },
     "execution_count": 61,
     "metadata": {},
     "output_type": "execute_result"
    }
   ],
   "source": [
    "MARKET_KEYWORD_SET[4][:3]"
   ]
  },
  {
   "cell_type": "code",
   "execution_count": 62,
   "metadata": {},
   "outputs": [
    {
     "data": {
      "text/plain": [
       "63"
      ]
     },
     "execution_count": 62,
     "metadata": {},
     "output_type": "execute_result"
    }
   ],
   "source": [
    "try_new_keywords(MARKET_KEYWORD_SET[4][:3])"
   ]
  },
  {
   "cell_type": "code",
   "execution_count": 64,
   "metadata": {},
   "outputs": [
    {
     "data": {
      "text/plain": [
       "('dividends',\n",
       " 'market volatility',\n",
       " 'investor sentiment',\n",
       " 'mergers and acquisitions')"
      ]
     },
     "execution_count": 64,
     "metadata": {},
     "output_type": "execute_result"
    }
   ],
   "source": [
    "MARKET_KEYWORD_SET[-3]"
   ]
  },
  {
   "cell_type": "code",
   "execution_count": 65,
   "metadata": {},
   "outputs": [],
   "source": [
    "try5 = ('dividends','market volatility','mergers acquisitions')"
   ]
  },
  {
   "cell_type": "code",
   "execution_count": 68,
   "metadata": {},
   "outputs": [
    {
     "data": {
      "text/plain": [
       "1"
      ]
     },
     "execution_count": 68,
     "metadata": {},
     "output_type": "execute_result"
    }
   ],
   "source": [
    "try_new_keywords(try5[:2])"
   ]
  },
  {
   "cell_type": "markdown",
   "metadata": {},
   "source": [
    "remove"
   ]
  },
  {
   "cell_type": "code",
   "execution_count": 73,
   "metadata": {},
   "outputs": [
    {
     "data": {
      "text/plain": [
       "('corporate governance', 'cybersecurity', 'innovation')"
      ]
     },
     "execution_count": 73,
     "metadata": {},
     "output_type": "execute_result"
    }
   ],
   "source": [
    "MARKET_KEYWORD_SET[-1][:3]"
   ]
  },
  {
   "cell_type": "code",
   "execution_count": 74,
   "metadata": {},
   "outputs": [
    {
     "data": {
      "text/plain": [
       "7"
      ]
     },
     "execution_count": 74,
     "metadata": {},
     "output_type": "execute_result"
    }
   ],
   "source": [
    "try_new_keywords(MARKET_KEYWORD_SET[-1][:3])"
   ]
  },
  {
   "cell_type": "code",
   "execution_count": null,
   "metadata": {},
   "outputs": [],
   "source": [
    "NEW_MKT_KEYWORDS = (\n",
    "    ('corporate governance', 'cybersecurity', 'innovation'),\n",
    "    ('retail sales', 'global trade', 'supply chain'),\n",
    "    (\"unemployment\", \"labor market\"),\n",
    "    ('earnings', 'revenue', 'profits'),\n",
    "    ('regulatory changes', 'geopolitical', 'climate change', 'sustainability')\n",
    ")"
   ]
  },
  {
   "cell_type": "code",
   "execution_count": 77,
   "metadata": {},
   "outputs": [],
   "source": [
    "from utils.constants import STOCK_SET"
   ]
  },
  {
   "cell_type": "code",
   "execution_count": 111,
   "metadata": {},
   "outputs": [],
   "source": [
    "data_path = get_project_root().joinpath('data/stock_hits.csv')"
   ]
  },
  {
   "cell_type": "code",
   "execution_count": 112,
   "metadata": {},
   "outputs": [],
   "source": [
    "df = pd.read_csv(data_path, index_col=0)"
   ]
  },
  {
   "cell_type": "code",
   "execution_count": 114,
   "metadata": {},
   "outputs": [],
   "source": [
    "import ast"
   ]
  },
  {
   "cell_type": "code",
   "execution_count": 118,
   "metadata": {},
   "outputs": [],
   "source": [
    "df.stock = df.stock.apply(ast.literal_eval)"
   ]
  },
  {
   "cell_type": "code",
   "execution_count": 119,
   "metadata": {},
   "outputs": [
    {
     "data": {
      "text/plain": [
       "(50, 3)"
      ]
     },
     "execution_count": 119,
     "metadata": {},
     "output_type": "execute_result"
    }
   ],
   "source": [
    "df.shape"
   ]
  },
  {
   "cell_type": "code",
   "execution_count": 120,
   "metadata": {},
   "outputs": [],
   "source": [
    "df = df[(df.hits > 10) & (df.hits < 1000)]"
   ]
  },
  {
   "cell_type": "code",
   "execution_count": 121,
   "metadata": {},
   "outputs": [
    {
     "data": {
      "text/plain": [
       "np.float64(580.8)"
      ]
     },
     "execution_count": 121,
     "metadata": {},
     "output_type": "execute_result"
    }
   ],
   "source": [
    "df.hits.sum() / 10"
   ]
  },
  {
   "cell_type": "code",
   "execution_count": 122,
   "metadata": {},
   "outputs": [],
   "source": [
    "removable = [4,13,22]\n",
    "df_new = df.drop(removable).reset_index(drop=True)"
   ]
  },
  {
   "cell_type": "code",
   "execution_count": 123,
   "metadata": {},
   "outputs": [
    {
     "data": {
      "text/plain": [
       "np.float64(460.0)"
      ]
     },
     "execution_count": 123,
     "metadata": {},
     "output_type": "execute_result"
    }
   ],
   "source": [
    "df_new.hits.sum() / 10"
   ]
  },
  {
   "cell_type": "code",
   "execution_count": 127,
   "metadata": {},
   "outputs": [
    {
     "data": {
      "text/plain": [
       "(('Apple', 'AAPL'),\n",
       " ('Microsoft', 'MSFT'),\n",
       " ('Amazon', 'AMZN'),\n",
       " ('Tesla', 'TSLA'),\n",
       " ('NVIDIA', 'NVDA'),\n",
       " ('JPMorgan', 'JPM'),\n",
       " ('Johnson & Johnson', 'JNJ'),\n",
       " ('Walmart', 'WMT'),\n",
       " ('Procter & Gamble', 'PG'),\n",
       " ('Pepsi', 'PEP'),\n",
       " ('Intel', 'INTC'),\n",
       " ('Exxon Mobil', 'XOM'),\n",
       " ('Pfizer', 'PFE'),\n",
       " ('Bank of America', 'BAC'),\n",
       " ('Walt Disney', 'DIS'),\n",
       " ('Home Depot', 'HD'),\n",
       " ('Verizon', 'VZ'),\n",
       " ('Chevron', 'CVX'),\n",
       " ('Honeywell', 'HON'),\n",
       " ('3M Company', 'MMM'),\n",
       " ('Boeing', 'BA'),\n",
       " ('IBM', 'IBM'),\n",
       " ('General Electric', 'GE'),\n",
       " ('General Motors', 'GM'),\n",
       " ('Goldman Sachs', 'GS'))"
      ]
     },
     "execution_count": 127,
     "metadata": {},
     "output_type": "execute_result"
    }
   ],
   "source": [
    "new_stocks = []\n",
    "for i, row in df_new.iterrows():\n",
    "    new_stocks.append(row['stock'])\n",
    "tuple(new_stocks)"
   ]
  }
 ],
 "metadata": {
  "kernelspec": {
   "display_name": "finance_sentiment_analysis-vciioODX",
   "language": "python",
   "name": "python3"
  },
  "language_info": {
   "codemirror_mode": {
    "name": "ipython",
    "version": 3
   },
   "file_extension": ".py",
   "mimetype": "text/x-python",
   "name": "python",
   "nbconvert_exporter": "python",
   "pygments_lexer": "ipython3",
   "version": "3.12.4"
  }
 },
 "nbformat": 4,
 "nbformat_minor": 2
}
