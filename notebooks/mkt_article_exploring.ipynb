{
 "cells": [
  {
   "cell_type": "code",
   "execution_count": 1,
   "metadata": {},
   "outputs": [],
   "source": [
    "import os\n",
    "import sys\n",
    "sys.path.insert(0, os.path.dirname(os.getcwd()))"
   ]
  },
  {
   "cell_type": "code",
   "execution_count": 2,
   "metadata": {},
   "outputs": [],
   "source": [
    "import pandas as pd\n",
    "import numpy as np\n",
    "from utils.nyt_api_helpers import get_project_root\n",
    "from utils.feature_helpers import gen_full_text_df, clean_df, combine_text_args_df"
   ]
  },
  {
   "cell_type": "code",
   "execution_count": 3,
   "metadata": {},
   "outputs": [],
   "source": [
    "PATH = get_project_root().joinpath('data/nyt/raw/raw_mkt_articles.csv')\n",
    "df = pd.read_csv(PATH, index_col=0)"
   ]
  },
  {
   "cell_type": "code",
   "execution_count": 4,
   "metadata": {},
   "outputs": [
    {
     "data": {
      "text/html": [
       "<div>\n",
       "<style scoped>\n",
       "    .dataframe tbody tr th:only-of-type {\n",
       "        vertical-align: middle;\n",
       "    }\n",
       "\n",
       "    .dataframe tbody tr th {\n",
       "        vertical-align: top;\n",
       "    }\n",
       "\n",
       "    .dataframe thead th {\n",
       "        text-align: right;\n",
       "    }\n",
       "</style>\n",
       "<table border=\"1\" class=\"dataframe\">\n",
       "  <thead>\n",
       "    <tr style=\"text-align: right;\">\n",
       "      <th></th>\n",
       "      <th>abstract</th>\n",
       "      <th>web_url</th>\n",
       "      <th>snippet</th>\n",
       "      <th>lead_paragraph</th>\n",
       "      <th>source</th>\n",
       "      <th>headline</th>\n",
       "      <th>pub_date</th>\n",
       "      <th>meta.article_type</th>\n",
       "      <th>meta.arguments</th>\n",
       "    </tr>\n",
       "  </thead>\n",
       "  <tbody>\n",
       "    <tr>\n",
       "      <th>0</th>\n",
       "      <td>Audiobooks are an example of a technology deve...</td>\n",
       "      <td>https://www.nytimes.com/2021/10/14/technology/...</td>\n",
       "      <td>NaN</td>\n",
       "      <td>To hear more audio stories from publications l...</td>\n",
       "      <td>The New York Times</td>\n",
       "      <td>‘Disability Drives Innovation’</td>\n",
       "      <td>2021-10-14 16:41:14+00:00</td>\n",
       "      <td>general_mkt</td>\n",
       "      <td>('corporate governance', 'cybersecurity', 'inn...</td>\n",
       "    </tr>\n",
       "    <tr>\n",
       "      <th>1</th>\n",
       "      <td>The tech giant, which is wrapping up its argum...</td>\n",
       "      <td>https://www.nytimes.com/2023/11/14/technology/...</td>\n",
       "      <td>NaN</td>\n",
       "      <td>Over the past two and a half weeks, Google has...</td>\n",
       "      <td>The New York Times</td>\n",
       "      <td>What Google Argued to Defend Itself in Landmar...</td>\n",
       "      <td>2023-11-14 10:03:25+00:00</td>\n",
       "      <td>general_mkt</td>\n",
       "      <td>('corporate governance', 'cybersecurity', 'inn...</td>\n",
       "    </tr>\n",
       "    <tr>\n",
       "      <th>2</th>\n",
       "      <td>The tech giant has dropped its plans to develo...</td>\n",
       "      <td>https://www.nytimes.com/2024/02/28/business/de...</td>\n",
       "      <td>NaN</td>\n",
       "      <td>Has Apple really crashed the car? The tech gia...</td>\n",
       "      <td>The New York Times</td>\n",
       "      <td>How Apple Used its Car Project to Drive Wider ...</td>\n",
       "      <td>2024-02-28 13:06:19+00:00</td>\n",
       "      <td>general_mkt</td>\n",
       "      <td>('corporate governance', 'cybersecurity', 'inn...</td>\n",
       "    </tr>\n",
       "  </tbody>\n",
       "</table>\n",
       "</div>"
      ],
      "text/plain": [
       "                                            abstract  \\\n",
       "0  Audiobooks are an example of a technology deve...   \n",
       "1  The tech giant, which is wrapping up its argum...   \n",
       "2  The tech giant has dropped its plans to develo...   \n",
       "\n",
       "                                             web_url  snippet  \\\n",
       "0  https://www.nytimes.com/2021/10/14/technology/...      NaN   \n",
       "1  https://www.nytimes.com/2023/11/14/technology/...      NaN   \n",
       "2  https://www.nytimes.com/2024/02/28/business/de...      NaN   \n",
       "\n",
       "                                      lead_paragraph              source  \\\n",
       "0  To hear more audio stories from publications l...  The New York Times   \n",
       "1  Over the past two and a half weeks, Google has...  The New York Times   \n",
       "2  Has Apple really crashed the car? The tech gia...  The New York Times   \n",
       "\n",
       "                                            headline  \\\n",
       "0                     ‘Disability Drives Innovation’   \n",
       "1  What Google Argued to Defend Itself in Landmar...   \n",
       "2  How Apple Used its Car Project to Drive Wider ...   \n",
       "\n",
       "                    pub_date meta.article_type  \\\n",
       "0  2021-10-14 16:41:14+00:00       general_mkt   \n",
       "1  2023-11-14 10:03:25+00:00       general_mkt   \n",
       "2  2024-02-28 13:06:19+00:00       general_mkt   \n",
       "\n",
       "                                      meta.arguments  \n",
       "0  ('corporate governance', 'cybersecurity', 'inn...  \n",
       "1  ('corporate governance', 'cybersecurity', 'inn...  \n",
       "2  ('corporate governance', 'cybersecurity', 'inn...  "
      ]
     },
     "execution_count": 4,
     "metadata": {},
     "output_type": "execute_result"
    }
   ],
   "source": [
    "df.head(3)"
   ]
  },
  {
   "cell_type": "code",
   "execution_count": 5,
   "metadata": {},
   "outputs": [],
   "source": [
    "cleaned_df = combine_text_args_df(gen_full_text_df(clean_df(df)), keep_all_cols=False)"
   ]
  },
  {
   "cell_type": "code",
   "execution_count": 6,
   "metadata": {},
   "outputs": [
    {
     "data": {
      "text/html": [
       "<div>\n",
       "<style scoped>\n",
       "    .dataframe tbody tr th:only-of-type {\n",
       "        vertical-align: middle;\n",
       "    }\n",
       "\n",
       "    .dataframe tbody tr th {\n",
       "        vertical-align: top;\n",
       "    }\n",
       "\n",
       "    .dataframe thead th {\n",
       "        text-align: right;\n",
       "    }\n",
       "</style>\n",
       "<table border=\"1\" class=\"dataframe\">\n",
       "  <thead>\n",
       "    <tr style=\"text-align: right;\">\n",
       "      <th></th>\n",
       "      <th>web_url</th>\n",
       "      <th>source</th>\n",
       "      <th>pub_date</th>\n",
       "      <th>full_text</th>\n",
       "      <th>combined_text</th>\n",
       "    </tr>\n",
       "  </thead>\n",
       "  <tbody>\n",
       "    <tr>\n",
       "      <th>0</th>\n",
       "      <td>https://www.nytimes.com/2021/10/14/technology/...</td>\n",
       "      <td>The New York Times</td>\n",
       "      <td>2021-10-14 16:41:14+00:00</td>\n",
       "      <td>‘Disability Drives Innovation’. Audiobooks are...</td>\n",
       "      <td>‘Disability Drives Innovation’. Audiobooks are...</td>\n",
       "    </tr>\n",
       "    <tr>\n",
       "      <th>1</th>\n",
       "      <td>https://www.nytimes.com/2023/11/14/technology/...</td>\n",
       "      <td>The New York Times</td>\n",
       "      <td>2023-11-14 10:03:25+00:00</td>\n",
       "      <td>What Google Argued to Defend Itself in Landmar...</td>\n",
       "      <td>What Google Argued to Defend Itself in Landmar...</td>\n",
       "    </tr>\n",
       "    <tr>\n",
       "      <th>2</th>\n",
       "      <td>https://www.nytimes.com/2024/02/28/business/de...</td>\n",
       "      <td>The New York Times</td>\n",
       "      <td>2024-02-28 13:06:19+00:00</td>\n",
       "      <td>How Apple Used its Car Project to Drive Wider ...</td>\n",
       "      <td>How Apple Used its Car Project to Drive Wider ...</td>\n",
       "    </tr>\n",
       "    <tr>\n",
       "      <th>3</th>\n",
       "      <td>https://www.nytimes.com/2021/12/21/technology/...</td>\n",
       "      <td>The New York Times</td>\n",
       "      <td>2021-12-21 17:42:46+00:00</td>\n",
       "      <td>The Tech I Want in 2022. Next year we need mor...</td>\n",
       "      <td>The Tech I Want in 2022. Next year we need mor...</td>\n",
       "    </tr>\n",
       "  </tbody>\n",
       "</table>\n",
       "</div>"
      ],
      "text/plain": [
       "                                             web_url              source  \\\n",
       "0  https://www.nytimes.com/2021/10/14/technology/...  The New York Times   \n",
       "1  https://www.nytimes.com/2023/11/14/technology/...  The New York Times   \n",
       "2  https://www.nytimes.com/2024/02/28/business/de...  The New York Times   \n",
       "3  https://www.nytimes.com/2021/12/21/technology/...  The New York Times   \n",
       "\n",
       "                   pub_date  \\\n",
       "0 2021-10-14 16:41:14+00:00   \n",
       "1 2023-11-14 10:03:25+00:00   \n",
       "2 2024-02-28 13:06:19+00:00   \n",
       "3 2021-12-21 17:42:46+00:00   \n",
       "\n",
       "                                           full_text  \\\n",
       "0  ‘Disability Drives Innovation’. Audiobooks are...   \n",
       "1  What Google Argued to Defend Itself in Landmar...   \n",
       "2  How Apple Used its Car Project to Drive Wider ...   \n",
       "3  The Tech I Want in 2022. Next year we need mor...   \n",
       "\n",
       "                                       combined_text  \n",
       "0  ‘Disability Drives Innovation’. Audiobooks are...  \n",
       "1  What Google Argued to Defend Itself in Landmar...  \n",
       "2  How Apple Used its Car Project to Drive Wider ...  \n",
       "3  The Tech I Want in 2022. Next year we need mor...  "
      ]
     },
     "execution_count": 6,
     "metadata": {},
     "output_type": "execute_result"
    }
   ],
   "source": [
    "cleaned_df.head(4)"
   ]
  },
  {
   "cell_type": "code",
   "execution_count": 6,
   "metadata": {},
   "outputs": [],
   "source": [
    "from utils.nyt_api_helpers import gather_article_set, gen_mkt_filter, gen_stock_filter\n",
    "from utils.constants import MARKET_KEYWORD_SET, STOCK_SET\n",
    "key = os.getenv(\"NYT_API_KEY\")"
   ]
  },
  {
   "cell_type": "code",
   "execution_count": 7,
   "metadata": {},
   "outputs": [],
   "source": [
    "test = gather_article_set(\n",
    "    key,\n",
    "    \"2024-01-01\",\n",
    "    gen_mkt_filter,\n",
    "    end_date= \"2024-01-31\",\n",
    "    booty = ('stocks','market')\n",
    ")"
   ]
  },
  {
   "cell_type": "code",
   "execution_count": 20,
   "metadata": {},
   "outputs": [
    {
     "data": {
      "text/html": [
       "<div>\n",
       "<style scoped>\n",
       "    .dataframe tbody tr th:only-of-type {\n",
       "        vertical-align: middle;\n",
       "    }\n",
       "\n",
       "    .dataframe tbody tr th {\n",
       "        vertical-align: top;\n",
       "    }\n",
       "\n",
       "    .dataframe thead th {\n",
       "        text-align: right;\n",
       "    }\n",
       "</style>\n",
       "<table border=\"1\" class=\"dataframe\">\n",
       "  <thead>\n",
       "    <tr style=\"text-align: right;\">\n",
       "      <th></th>\n",
       "      <th>abstract</th>\n",
       "      <th>web_url</th>\n",
       "      <th>snippet</th>\n",
       "      <th>lead_paragraph</th>\n",
       "      <th>source</th>\n",
       "      <th>headline</th>\n",
       "      <th>pub_date</th>\n",
       "      <th>meta.article_type</th>\n",
       "      <th>meta.api</th>\n",
       "      <th>meta.arguments</th>\n",
       "    </tr>\n",
       "  </thead>\n",
       "  <tbody>\n",
       "    <tr>\n",
       "      <th>0</th>\n",
       "      <td>We’ve rounded up of the titles most worth chec...</td>\n",
       "      <td>https://www.nytimes.com/2024/01/03/arts/televi...</td>\n",
       "      <td></td>\n",
       "      <td>Every month, streaming services add movies and...</td>\n",
       "      <td>The New York Times</td>\n",
       "      <td>The Best Movies and TV Shows Coming to Apple T...</td>\n",
       "      <td>2024-01-03 18:21:13+00:00</td>\n",
       "      <td>stock</td>\n",
       "      <td>NYT</td>\n",
       "      <td>(Apple, AAPL)</td>\n",
       "    </tr>\n",
       "    <tr>\n",
       "      <th>1</th>\n",
       "      <td>The new headset teaches a valuable lesson abou...</td>\n",
       "      <td>https://www.nytimes.com/2024/01/31/technology/...</td>\n",
       "      <td></td>\n",
       "      <td>When Apple unveiled the Vision Pro virtual rea...</td>\n",
       "      <td>The New York Times</td>\n",
       "      <td>The True Price of Apple’s $3,500 Vision Pro Is...</td>\n",
       "      <td>2024-01-31 16:33:27+00:00</td>\n",
       "      <td>stock</td>\n",
       "      <td>NYT</td>\n",
       "      <td>(Apple, AAPL)</td>\n",
       "    </tr>\n",
       "  </tbody>\n",
       "</table>\n",
       "</div>"
      ],
      "text/plain": [
       "                                            abstract  \\\n",
       "0  We’ve rounded up of the titles most worth chec...   \n",
       "1  The new headset teaches a valuable lesson abou...   \n",
       "\n",
       "                                             web_url snippet  \\\n",
       "0  https://www.nytimes.com/2024/01/03/arts/televi...           \n",
       "1  https://www.nytimes.com/2024/01/31/technology/...           \n",
       "\n",
       "                                      lead_paragraph              source  \\\n",
       "0  Every month, streaming services add movies and...  The New York Times   \n",
       "1  When Apple unveiled the Vision Pro virtual rea...  The New York Times   \n",
       "\n",
       "                                            headline  \\\n",
       "0  The Best Movies and TV Shows Coming to Apple T...   \n",
       "1  The True Price of Apple’s $3,500 Vision Pro Is...   \n",
       "\n",
       "                   pub_date meta.article_type meta.api meta.arguments  \n",
       "0 2024-01-03 18:21:13+00:00             stock      NYT  (Apple, AAPL)  \n",
       "1 2024-01-31 16:33:27+00:00             stock      NYT  (Apple, AAPL)  "
      ]
     },
     "execution_count": 20,
     "metadata": {},
     "output_type": "execute_result"
    }
   ],
   "source": [
    "test.head(2)"
   ]
  },
  {
   "cell_type": "code",
   "execution_count": 9,
   "metadata": {},
   "outputs": [],
   "source": [
    "hmm = combine_text_args_df(gen_full_text_df(clean_df(test)))"
   ]
  },
  {
   "cell_type": "code",
   "execution_count": 10,
   "metadata": {},
   "outputs": [
    {
     "name": "stdout",
     "output_type": "stream",
     "text": [
      "Rising Markets Lift Hedge Funds to Huge Gains\n",
      "The 20 best-performing hedge funds made $67 billion in gains last year, a big jump from the year before.\n",
      "As stock markets soared in 2023, so did the fortunes of many of the world’s biggest hedge funds.\n"
     ]
    }
   ],
   "source": [
    "print(test.iloc[5]['headline'])\n",
    "print(test.iloc[5]['abstract'])\n",
    "print(test.iloc[5]['lead_paragraph'])"
   ]
  },
  {
   "cell_type": "code",
   "execution_count": 11,
   "metadata": {},
   "outputs": [
    {
     "name": "stdout",
     "output_type": "stream",
     "text": [
      "Rising Markets Lift Hedge Funds to Huge Gains. The 20 best-performing hedge funds made $67 billion in gains last year, a big jump from the year before. As stock markets soared in 2023, so did the fortunes of many of the world’s biggest hedge funds.\n",
      "Rising Markets Lift Hedge Funds to Huge Gains. The 20 best-performing hedge funds made $67 billion in gains last year, a big jump from the year before. As stock markets soared in 2023, so did the fortunes of many of the world’s biggest hedge funds. Article Arguments: stocks, market. Article Type: general market article.\n"
     ]
    }
   ],
   "source": [
    "print(hmm.iloc[5]['full_text'])\n",
    "print(hmm.iloc[5]['combined_text'])"
   ]
  },
  {
   "cell_type": "code",
   "execution_count": 13,
   "metadata": {},
   "outputs": [],
   "source": [
    "test = gather_article_set(\n",
    "    key,\n",
    "    \"2024-01-01\",\n",
    "    gen_stock_filter,\n",
    "    end_date= \"2024-01-31\",\n",
    "    stock_name = \"Apple\",\n",
    "    ticker = \"AAPL\"\n",
    ")"
   ]
  },
  {
   "cell_type": "code",
   "execution_count": 19,
   "metadata": {},
   "outputs": [
    {
     "data": {
      "text/html": [
       "<div>\n",
       "<style scoped>\n",
       "    .dataframe tbody tr th:only-of-type {\n",
       "        vertical-align: middle;\n",
       "    }\n",
       "\n",
       "    .dataframe tbody tr th {\n",
       "        vertical-align: top;\n",
       "    }\n",
       "\n",
       "    .dataframe thead th {\n",
       "        text-align: right;\n",
       "    }\n",
       "</style>\n",
       "<table border=\"1\" class=\"dataframe\">\n",
       "  <thead>\n",
       "    <tr style=\"text-align: right;\">\n",
       "      <th></th>\n",
       "      <th>abstract</th>\n",
       "      <th>web_url</th>\n",
       "      <th>snippet</th>\n",
       "      <th>lead_paragraph</th>\n",
       "      <th>source</th>\n",
       "      <th>headline</th>\n",
       "      <th>pub_date</th>\n",
       "      <th>meta.article_type</th>\n",
       "      <th>meta.api</th>\n",
       "      <th>meta.arguments</th>\n",
       "    </tr>\n",
       "  </thead>\n",
       "  <tbody>\n",
       "    <tr>\n",
       "      <th>0</th>\n",
       "      <td>We’ve rounded up of the titles most worth chec...</td>\n",
       "      <td>https://www.nytimes.com/2024/01/03/arts/televi...</td>\n",
       "      <td></td>\n",
       "      <td>Every month, streaming services add movies and...</td>\n",
       "      <td>The New York Times</td>\n",
       "      <td>The Best Movies and TV Shows Coming to Apple T...</td>\n",
       "      <td>2024-01-03 18:21:13+00:00</td>\n",
       "      <td>stock</td>\n",
       "      <td>NYT</td>\n",
       "      <td>(Apple, AAPL)</td>\n",
       "    </tr>\n",
       "    <tr>\n",
       "      <th>1</th>\n",
       "      <td>The new headset teaches a valuable lesson abou...</td>\n",
       "      <td>https://www.nytimes.com/2024/01/31/technology/...</td>\n",
       "      <td></td>\n",
       "      <td>When Apple unveiled the Vision Pro virtual rea...</td>\n",
       "      <td>The New York Times</td>\n",
       "      <td>The True Price of Apple’s $3,500 Vision Pro Is...</td>\n",
       "      <td>2024-01-31 16:33:27+00:00</td>\n",
       "      <td>stock</td>\n",
       "      <td>NYT</td>\n",
       "      <td>(Apple, AAPL)</td>\n",
       "    </tr>\n",
       "  </tbody>\n",
       "</table>\n",
       "</div>"
      ],
      "text/plain": [
       "                                            abstract  \\\n",
       "0  We’ve rounded up of the titles most worth chec...   \n",
       "1  The new headset teaches a valuable lesson abou...   \n",
       "\n",
       "                                             web_url snippet  \\\n",
       "0  https://www.nytimes.com/2024/01/03/arts/televi...           \n",
       "1  https://www.nytimes.com/2024/01/31/technology/...           \n",
       "\n",
       "                                      lead_paragraph              source  \\\n",
       "0  Every month, streaming services add movies and...  The New York Times   \n",
       "1  When Apple unveiled the Vision Pro virtual rea...  The New York Times   \n",
       "\n",
       "                                            headline  \\\n",
       "0  The Best Movies and TV Shows Coming to Apple T...   \n",
       "1  The True Price of Apple’s $3,500 Vision Pro Is...   \n",
       "\n",
       "                   pub_date meta.article_type meta.api meta.arguments  \n",
       "0 2024-01-03 18:21:13+00:00             stock      NYT  (Apple, AAPL)  \n",
       "1 2024-01-31 16:33:27+00:00             stock      NYT  (Apple, AAPL)  "
      ]
     },
     "execution_count": 19,
     "metadata": {},
     "output_type": "execute_result"
    }
   ],
   "source": [
    "test.head(2)"
   ]
  },
  {
   "cell_type": "code",
   "execution_count": 15,
   "metadata": {},
   "outputs": [],
   "source": [
    "hmm = combine_text_args_df(gen_full_text_df(clean_df(test)))"
   ]
  },
  {
   "cell_type": "code",
   "execution_count": 17,
   "metadata": {},
   "outputs": [
    {
     "data": {
      "text/plain": [
       "web_url                       object\n",
       "source                        object\n",
       "pub_date         datetime64[ns, UTC]\n",
       "api                           object\n",
       "arguments                     object\n",
       "article_type                  object\n",
       "full_text                     object\n",
       "combined_text                 object\n",
       "dtype: object"
      ]
     },
     "execution_count": 17,
     "metadata": {},
     "output_type": "execute_result"
    }
   ],
   "source": [
    "hmm.dtypes"
   ]
  }
 ],
 "metadata": {
  "kernelspec": {
   "display_name": "finance_sentiment_analysis-vciioODX",
   "language": "python",
   "name": "python3"
  },
  "language_info": {
   "codemirror_mode": {
    "name": "ipython",
    "version": 3
   },
   "file_extension": ".py",
   "mimetype": "text/x-python",
   "name": "python",
   "nbconvert_exporter": "python",
   "pygments_lexer": "ipython3",
   "version": "3.12.4"
  }
 },
 "nbformat": 4,
 "nbformat_minor": 2
}
