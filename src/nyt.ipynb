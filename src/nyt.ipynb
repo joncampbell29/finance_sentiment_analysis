{
 "cells": [
  {
   "cell_type": "code",
   "execution_count": 3,
   "metadata": {},
   "outputs": [
    {
     "data": {
      "text/plain": [
       "True"
      ]
     },
     "execution_count": 3,
     "metadata": {},
     "output_type": "execute_result"
    }
   ],
   "source": [
    "import requests\n",
    "import os\n",
    "from dotenv import load_dotenv\n",
    "load_dotenv()"
   ]
  },
  {
   "cell_type": "code",
   "execution_count": 4,
   "metadata": {},
   "outputs": [],
   "source": [
    "key = os.getenv(\"NYT_API_KEY\")"
   ]
  },
  {
   "cell_type": "code",
   "execution_count": 81,
   "metadata": {},
   "outputs": [],
   "source": [
    "url = \"https://api.nytimes.com/svc/search/v2/articlesearch.json\"\n",
    "payload = {\n",
    "    'fq': 'headline:(\"Apple\") AND body:(\"Apple\")',\n",
    "    'begin_date': \"2020-01-01\",\n",
    "    'end_date': \"2020-01-31\",\n",
    "    'api-key': key,\n",
    "    'page': 1\n",
    "    \n",
    "}"
   ]
  },
  {
   "cell_type": "code",
   "execution_count": 82,
   "metadata": {},
   "outputs": [
    {
     "name": "stdout",
     "output_type": "stream",
     "text": [
      "200\n"
     ]
    }
   ],
   "source": [
    "resp = requests.get(url, params=payload)\n",
    "print(resp.status_code)"
   ]
  },
  {
   "cell_type": "code",
   "execution_count": 83,
   "metadata": {},
   "outputs": [],
   "source": [
    "docs = resp.json()['response']['docs']\n"
   ]
  },
  {
   "cell_type": "code",
   "execution_count": 72,
   "metadata": {},
   "outputs": [],
   "source": [
    "def see_example(num):\n",
    "    example = docs[num]\n",
    "    print(example['abstract'])\n",
    "    print(example['snippet'])\n",
    "    print(example['lead_paragraph'])\n"
   ]
  },
  {
   "cell_type": "code",
   "execution_count": 84,
   "metadata": {},
   "outputs": [
    {
     "name": "stdout",
     "output_type": "stream",
     "text": [
      "The Silicon Valley giant is preparing for a legal fight over encryption, even as it works to reduce tensions with the Justice Department.\n",
      "The Silicon Valley giant is preparing for a legal fight over encryption, even as it works to reduce tensions with the Justice Department.\n",
      "SAN FRANCISCO — Apple is privately preparing for a legal fight with the Justice Department to defend encryption on its iPhones while publicly trying to defuse the dispute, as the technology giant navigates an increasingly tricky line between its customers and the Trump administration.\n"
     ]
    }
   ],
   "source": [
    "see_example(0)\n"
   ]
  },
  {
   "cell_type": "code",
   "execution_count": 86,
   "metadata": {},
   "outputs": [
    {
     "name": "stdout",
     "output_type": "stream",
     "text": [
      "The request set up a collision between law enforcement and big technology firms in the latest battle over privacy and security.\n",
      "The request set up a collision between law enforcement and big technology firms in the latest battle over privacy and security.\n",
      "WASHINGTON — Attorney General William P. Barr declared on Monday that a deadly shooting last month at a naval air station in Pensacola, Fla., was an act of terrorism, and he asked Apple in an unusually high-profile request to provide access to two phones used by the gunman.\n"
     ]
    }
   ],
   "source": [
    "see_example(1)"
   ]
  },
  {
   "cell_type": "code",
   "execution_count": 87,
   "metadata": {},
   "outputs": [
    {
     "name": "stdout",
     "output_type": "stream",
     "text": [
      "Attorney General William P. Barr is pushing Apple to unlock the phones of the gunman behind a deadly shooting at a naval air station in Pensacola, Fla.\n",
      "Attorney General William P. Barr is pushing Apple to unlock the phones of the gunman behind a deadly shooting at a naval air station in Pensacola, Fla.\n",
      "Attorney General William P. Barr is pushing Apple to unlock the phones of the gunman behind a deadly shooting at a naval air station in Pensacola, Fla.\n"
     ]
    }
   ],
   "source": [
    "see_example(-1)"
   ]
  }
 ],
 "metadata": {
  "kernelspec": {
   "display_name": "finance_sentiment_analysis-vciioODX",
   "language": "python",
   "name": "python3"
  },
  "language_info": {
   "codemirror_mode": {
    "name": "ipython",
    "version": 3
   },
   "file_extension": ".py",
   "mimetype": "text/x-python",
   "name": "python",
   "nbconvert_exporter": "python",
   "pygments_lexer": "ipython3",
   "version": "3.12.4"
  }
 },
 "nbformat": 4,
 "nbformat_minor": 2
}
