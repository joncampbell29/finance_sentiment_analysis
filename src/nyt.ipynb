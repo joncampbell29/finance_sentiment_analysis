{
 "cells": [
  {
   "cell_type": "code",
   "execution_count": 2,
   "metadata": {},
   "outputs": [
    {
     "data": {
      "text/plain": [
       "True"
      ]
     },
     "execution_count": 2,
     "metadata": {},
     "output_type": "execute_result"
    }
   ],
   "source": [
    "import requests\n",
    "import os\n",
    "from dotenv import load_dotenv\n",
    "load_dotenv()"
   ]
  },
  {
   "cell_type": "code",
   "execution_count": 3,
   "metadata": {},
   "outputs": [],
   "source": [
    "key = os.getenv(\"NYT_API_KEY\")"
   ]
  },
  {
   "cell_type": "code",
   "execution_count": 9,
   "metadata": {},
   "outputs": [],
   "source": [
    "url = \"https://api.nytimes.com/svc/search/v2/articlesearch.json\"\n",
    "payload = {\n",
    "    'fq': 'body:(\"Apple AND stock\")',\n",
    "    #'fq': 'headline:(\"Apple\") AND body:(\"Apple\")',\n",
    "    'begin_date': \"2020-01-01\",\n",
    "    'end_date': \"2020-01-31\",\n",
    "    'api-key': key,\n",
    "    'page': 1\n",
    "    \n",
    "}"
   ]
  },
  {
   "cell_type": "code",
   "execution_count": 10,
   "metadata": {},
   "outputs": [
    {
     "name": "stdout",
     "output_type": "stream",
     "text": [
      "200\n"
     ]
    }
   ],
   "source": [
    "resp = requests.get(url, params=payload)\n",
    "print(resp.status_code)"
   ]
  },
  {
   "cell_type": "code",
   "execution_count": 11,
   "metadata": {},
   "outputs": [],
   "source": [
    "docs = resp.json()['response']['docs']\n"
   ]
  },
  {
   "cell_type": "code",
   "execution_count": 14,
   "metadata": {},
   "outputs": [],
   "source": [
    "def see_example(num):\n",
    "    if resp.json()['response']['meta']['hits'] == 0:\n",
    "        return \"No hits\"\n",
    "    example = docs[num]\n",
    "    print(example['abstract'])\n",
    "    print(example['snippet'])\n",
    "    print(example['lead_paragraph'])\n"
   ]
  },
  {
   "cell_type": "code",
   "execution_count": 15,
   "metadata": {},
   "outputs": [
    {
     "data": {
      "text/plain": [
       "'No hits'"
      ]
     },
     "execution_count": 15,
     "metadata": {},
     "output_type": "execute_result"
    }
   ],
   "source": [
    "see_example(0)\n"
   ]
  },
  {
   "cell_type": "code",
   "execution_count": null,
   "metadata": {},
   "outputs": [
    {
     "name": "stdout",
     "output_type": "stream",
     "text": [
      "The request set up a collision between law enforcement and big technology firms in the latest battle over privacy and security.\n",
      "The request set up a collision between law enforcement and big technology firms in the latest battle over privacy and security.\n",
      "WASHINGTON — Attorney General William P. Barr declared on Monday that a deadly shooting last month at a naval air station in Pensacola, Fla., was an act of terrorism, and he asked Apple in an unusually high-profile request to provide access to two phones used by the gunman.\n"
     ]
    }
   ],
   "source": [
    "see_example(1)"
   ]
  },
  {
   "cell_type": "code",
   "execution_count": null,
   "metadata": {},
   "outputs": [
    {
     "name": "stdout",
     "output_type": "stream",
     "text": [
      "Attorney General William P. Barr is pushing Apple to unlock the phones of the gunman behind a deadly shooting at a naval air station in Pensacola, Fla.\n",
      "Attorney General William P. Barr is pushing Apple to unlock the phones of the gunman behind a deadly shooting at a naval air station in Pensacola, Fla.\n",
      "Attorney General William P. Barr is pushing Apple to unlock the phones of the gunman behind a deadly shooting at a naval air station in Pensacola, Fla.\n"
     ]
    }
   ],
   "source": [
    "see_example(-1)"
   ]
  }
 ],
 "metadata": {
  "kernelspec": {
   "display_name": "finance_sentiment_analysis-vciioODX",
   "language": "python",
   "name": "python3"
  },
  "language_info": {
   "codemirror_mode": {
    "name": "ipython",
    "version": 3
   },
   "file_extension": ".py",
   "mimetype": "text/x-python",
   "name": "python",
   "nbconvert_exporter": "python",
   "pygments_lexer": "ipython3",
   "version": "3.12.4"
  }
 },
 "nbformat": 4,
 "nbformat_minor": 2
}
